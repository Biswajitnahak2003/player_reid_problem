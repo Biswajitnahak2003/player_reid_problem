{
 "cells": [
  {
   "cell_type": "code",
   "execution_count": 6,
   "id": "0c46716b-33da-4fbc-8d45-49a6297bc38a",
   "metadata": {},
   "outputs": [],
   "source": [
    "from ultralytics import YOLO\n",
    "from roboflow import Roboflow"
   ]
  },
  {
   "cell_type": "code",
   "execution_count": 7,
   "id": "aa35cf35-0a3d-4f78-bdab-46c615bdc2df",
   "metadata": {},
   "outputs": [
    {
     "name": "stdout",
     "output_type": "stream",
     "text": [
      "loading Roboflow workspace...\n",
      "loading Roboflow project...\n"
     ]
    }
   ],
   "source": [
    "\n",
    "from roboflow import Roboflow\n",
    "rf = Roboflow(api_key=\"XB5iTjGN0bZP4b4dqoHK\")\n",
    "project = rf.workspace(\"biswajitplayeriddetection\").project(\"object_detection-g8zak\")\n",
    "version = project.version(1)\n",
    "dataset = version.download(\"yolov8\")\n",
    "                "
   ]
  },
  {
   "cell_type": "code",
   "execution_count": 8,
   "id": "1cd381db-bdfd-420c-933d-240ca3a5fea4",
   "metadata": {},
   "outputs": [
    {
     "data": {
      "text/plain": [
       "'C:\\\\Users\\\\biswa\\\\object_detection_project\\\\object_detection-1'"
      ]
     },
     "execution_count": 8,
     "metadata": {},
     "output_type": "execute_result"
    }
   ],
   "source": [
    "dataset.location"
   ]
  },
  {
   "cell_type": "code",
   "execution_count": 9,
   "id": "23788fb9-2345-4d96-83ea-626030749656",
   "metadata": {},
   "outputs": [
    {
     "name": "stdout",
     "output_type": "stream",
     "text": [
      "Downloading https://github.com/ultralytics/assets/releases/download/v8.3.0/yolov8n.pt to 'yolov8n.pt'...\n"
     ]
    },
    {
     "name": "stderr",
     "output_type": "stream",
     "text": [
      "100%|██████████| 6.25M/6.25M [00:01<00:00, 4.72MB/s]\n"
     ]
    },
    {
     "name": "stdout",
     "output_type": "stream",
     "text": [
      "New https://pypi.org/project/ultralytics/8.3.161 available  Update with 'pip install -U ultralytics'\n",
      "Ultralytics 8.3.158  Python-3.12.7 torch-2.7.1+cpu CPU (12th Gen Intel Core(TM) i5-1235U)\n",
      "\u001b[34m\u001b[1mengine\\trainer: \u001b[0magnostic_nms=False, amp=True, augment=False, auto_augment=randaugment, batch=4, bgr=0.0, box=7.5, cache=False, cfg=None, classes=None, close_mosaic=10, cls=0.5, conf=None, copy_paste=0.0, copy_paste_mode=flip, cos_lr=False, cutmix=0.0, data=object_detection-1/data.yaml, degrees=0.0, deterministic=True, device=cpu, dfl=1.5, dnn=False, dropout=0.0, dynamic=False, embed=None, epochs=20, erasing=0.4, exist_ok=False, fliplr=0.5, flipud=0.0, format=torchscript, fraction=1.0, freeze=None, half=False, hsv_h=0.015, hsv_s=0.7, hsv_v=0.4, imgsz=416, int8=False, iou=0.7, keras=False, kobj=1.0, line_width=None, lr0=0.01, lrf=0.01, mask_ratio=4, max_det=300, mixup=0.0, mode=train, model=yolov8n.pt, momentum=0.937, mosaic=1.0, multi_scale=False, name=train, nbs=64, nms=False, opset=None, optimize=False, optimizer=auto, overlap_mask=True, patience=100, perspective=0.0, plots=True, pose=12.0, pretrained=True, profile=False, project=None, rect=False, resume=False, retina_masks=False, save=True, save_conf=False, save_crop=False, save_dir=C:\\Users\\biswa\\runs\\detect\\train, save_frames=False, save_json=False, save_period=-1, save_txt=False, scale=0.5, seed=0, shear=0.0, show=False, show_boxes=True, show_conf=True, show_labels=True, simplify=True, single_cls=False, source=None, split=val, stream_buffer=False, task=detect, time=None, tracker=botsort.yaml, translate=0.1, val=True, verbose=True, vid_stride=1, visualize=False, warmup_bias_lr=0.1, warmup_epochs=3.0, warmup_momentum=0.8, weight_decay=0.0005, workers=0, workspace=None\n",
      "Downloading https://ultralytics.com/assets/Arial.ttf to 'C:\\Users\\biswa\\AppData\\Roaming\\Ultralytics\\Arial.ttf'...\n"
     ]
    },
    {
     "name": "stderr",
     "output_type": "stream",
     "text": [
      "100%|██████████| 755k/755k [00:00<00:00, 3.58MB/s]"
     ]
    },
    {
     "name": "stdout",
     "output_type": "stream",
     "text": [
      "Overriding model.yaml nc=80 with nc=4\n",
      "\n",
      "                   from  n    params  module                                       arguments                     \n",
      "  0                  -1  1       464  ultralytics.nn.modules.conv.Conv             [3, 16, 3, 2]                 \n",
      "  1                  -1  1      4672  ultralytics.nn.modules.conv.Conv             [16, 32, 3, 2]                \n"
     ]
    },
    {
     "name": "stderr",
     "output_type": "stream",
     "text": [
      "\n"
     ]
    },
    {
     "name": "stdout",
     "output_type": "stream",
     "text": [
      "  2                  -1  1      7360  ultralytics.nn.modules.block.C2f             [32, 32, 1, True]             \n",
      "  3                  -1  1     18560  ultralytics.nn.modules.conv.Conv             [32, 64, 3, 2]                \n",
      "  4                  -1  2     49664  ultralytics.nn.modules.block.C2f             [64, 64, 2, True]             \n",
      "  5                  -1  1     73984  ultralytics.nn.modules.conv.Conv             [64, 128, 3, 2]               \n",
      "  6                  -1  2    197632  ultralytics.nn.modules.block.C2f             [128, 128, 2, True]           \n",
      "  7                  -1  1    295424  ultralytics.nn.modules.conv.Conv             [128, 256, 3, 2]              \n",
      "  8                  -1  1    460288  ultralytics.nn.modules.block.C2f             [256, 256, 1, True]           \n",
      "  9                  -1  1    164608  ultralytics.nn.modules.block.SPPF            [256, 256, 5]                 \n",
      " 10                  -1  1         0  torch.nn.modules.upsampling.Upsample         [None, 2, 'nearest']          \n",
      " 11             [-1, 6]  1         0  ultralytics.nn.modules.conv.Concat           [1]                           \n",
      " 12                  -1  1    148224  ultralytics.nn.modules.block.C2f             [384, 128, 1]                 \n",
      " 13                  -1  1         0  torch.nn.modules.upsampling.Upsample         [None, 2, 'nearest']          \n",
      " 14             [-1, 4]  1         0  ultralytics.nn.modules.conv.Concat           [1]                           \n",
      " 15                  -1  1     37248  ultralytics.nn.modules.block.C2f             [192, 64, 1]                  \n",
      " 16                  -1  1     36992  ultralytics.nn.modules.conv.Conv             [64, 64, 3, 2]                \n",
      " 17            [-1, 12]  1         0  ultralytics.nn.modules.conv.Concat           [1]                           \n",
      " 18                  -1  1    123648  ultralytics.nn.modules.block.C2f             [192, 128, 1]                 \n",
      " 19                  -1  1    147712  ultralytics.nn.modules.conv.Conv             [128, 128, 3, 2]              \n",
      " 20             [-1, 9]  1         0  ultralytics.nn.modules.conv.Concat           [1]                           \n",
      " 21                  -1  1    493056  ultralytics.nn.modules.block.C2f             [384, 256, 1]                 \n",
      " 22        [15, 18, 21]  1    752092  ultralytics.nn.modules.head.Detect           [4, [64, 128, 256]]           \n",
      "Model summary: 129 layers, 3,011,628 parameters, 3,011,612 gradients, 8.2 GFLOPs\n",
      "\n",
      "Transferred 319/355 items from pretrained weights\n",
      "Freezing layer 'model.22.dfl.conv.weight'\n",
      "\u001b[34m\u001b[1mtrain: \u001b[0mFast image access  (ping: 0.10.1 ms, read: 2.20.6 MB/s, size: 42.7 KB)\n"
     ]
    },
    {
     "name": "stderr",
     "output_type": "stream",
     "text": [
      "\u001b[34m\u001b[1mtrain: \u001b[0mScanning C:\\Users\\biswa\\object_detection_project\\object_detection-1\\train\\labels... 51 images, 0 backgrounds, 0 corrupt: 100%|██████████| 51/51 [00:00<00:00, 182.45it/s]"
     ]
    },
    {
     "name": "stdout",
     "output_type": "stream",
     "text": [
      "\u001b[34m\u001b[1mtrain: \u001b[0mNew cache created: C:\\Users\\biswa\\object_detection_project\\object_detection-1\\train\\labels.cache\n"
     ]
    },
    {
     "name": "stderr",
     "output_type": "stream",
     "text": [
      "\n"
     ]
    },
    {
     "name": "stdout",
     "output_type": "stream",
     "text": [
      "\u001b[34m\u001b[1mval: \u001b[0mFast image access  (ping: 0.10.0 ms, read: 3.40.4 MB/s, size: 53.8 KB)\n"
     ]
    },
    {
     "name": "stderr",
     "output_type": "stream",
     "text": [
      "'pin_memory' argument is set as true but no accelerator is found, then device pinned memory won't be used.\n",
      "\u001b[34m\u001b[1mval: \u001b[0mScanning C:\\Users\\biswa\\object_detection_project\\object_detection-1\\valid\\labels... 15 images, 0 backgrounds, 0 corrupt: 100%|██████████| 15/15 [00:00<00:00, 179.59it/s]"
     ]
    },
    {
     "name": "stdout",
     "output_type": "stream",
     "text": [
      "\u001b[34m\u001b[1mval: \u001b[0mNew cache created: C:\\Users\\biswa\\object_detection_project\\object_detection-1\\valid\\labels.cache\n"
     ]
    },
    {
     "name": "stderr",
     "output_type": "stream",
     "text": [
      "\n",
      "'pin_memory' argument is set as true but no accelerator is found, then device pinned memory won't be used.\n"
     ]
    },
    {
     "name": "stdout",
     "output_type": "stream",
     "text": [
      "Plotting labels to C:\\Users\\biswa\\runs\\detect\\train\\labels.jpg... \n",
      "\u001b[34m\u001b[1moptimizer:\u001b[0m 'optimizer=auto' found, ignoring 'lr0=0.01' and 'momentum=0.937' and determining best 'optimizer', 'lr0' and 'momentum' automatically... \n",
      "\u001b[34m\u001b[1moptimizer:\u001b[0m AdamW(lr=0.00125, momentum=0.9) with parameter groups 57 weight(decay=0.0), 64 weight(decay=0.0005), 63 bias(decay=0.0)\n",
      "Image sizes 416 train, 416 val\n",
      "Using 0 dataloader workers\n",
      "Logging results to \u001b[1mC:\\Users\\biswa\\runs\\detect\\train\u001b[0m\n",
      "Starting training for 20 epochs...\n",
      "\n",
      "      Epoch    GPU_mem   box_loss   cls_loss   dfl_loss  Instances       Size\n"
     ]
    },
    {
     "name": "stderr",
     "output_type": "stream",
     "text": [
      "       1/20         0G      2.093      4.128       1.28         72        416: 100%|██████████| 13/13 [00:17<00:00,  1.35s/it]\n",
      "                 Class     Images  Instances      Box(P          R      mAP50  mAP50-95): 100%|██████████| 2/2 [00:02<00:00,  1.11s/it]"
     ]
    },
    {
     "name": "stdout",
     "output_type": "stream",
     "text": [
      "                   all         15        171    0.00294     0.0516     0.0117    0.00358\n"
     ]
    },
    {
     "name": "stderr",
     "output_type": "stream",
     "text": [
      "\n"
     ]
    },
    {
     "name": "stdout",
     "output_type": "stream",
     "text": [
      "\n",
      "      Epoch    GPU_mem   box_loss   cls_loss   dfl_loss  Instances       Size\n"
     ]
    },
    {
     "name": "stderr",
     "output_type": "stream",
     "text": [
      "       2/20         0G      1.956      3.306      1.147         66        416: 100%|██████████| 13/13 [00:14<00:00,  1.13s/it]\n",
      "                 Class     Images  Instances      Box(P          R      mAP50  mAP50-95): 100%|██████████| 2/2 [00:01<00:00,  1.44it/s]"
     ]
    },
    {
     "name": "stdout",
     "output_type": "stream",
     "text": [
      "                   all         15        171     0.0057     0.0463    0.00378      0.002\n"
     ]
    },
    {
     "name": "stderr",
     "output_type": "stream",
     "text": [
      "\n"
     ]
    },
    {
     "name": "stdout",
     "output_type": "stream",
     "text": [
      "\n",
      "      Epoch    GPU_mem   box_loss   cls_loss   dfl_loss  Instances       Size\n"
     ]
    },
    {
     "name": "stderr",
     "output_type": "stream",
     "text": [
      "       3/20         0G      1.948      2.407       1.13         32        416: 100%|██████████| 13/13 [00:16<00:00,  1.24s/it]\n",
      "                 Class     Images  Instances      Box(P          R      mAP50  mAP50-95): 100%|██████████| 2/2 [00:01<00:00,  1.73it/s]"
     ]
    },
    {
     "name": "stdout",
     "output_type": "stream",
     "text": [
      "                   all         15        171     0.0344      0.396      0.257      0.124\n"
     ]
    },
    {
     "name": "stderr",
     "output_type": "stream",
     "text": [
      "\n"
     ]
    },
    {
     "name": "stdout",
     "output_type": "stream",
     "text": [
      "\n",
      "      Epoch    GPU_mem   box_loss   cls_loss   dfl_loss  Instances       Size\n"
     ]
    },
    {
     "name": "stderr",
     "output_type": "stream",
     "text": [
      "       4/20         0G      1.839      1.803      1.064         36        416: 100%|██████████| 13/13 [00:15<00:00,  1.23s/it]\n",
      "                 Class     Images  Instances      Box(P          R      mAP50  mAP50-95): 100%|██████████| 2/2 [00:01<00:00,  1.61it/s]"
     ]
    },
    {
     "name": "stdout",
     "output_type": "stream",
     "text": [
      "                   all         15        171      0.986      0.217      0.286      0.137\n"
     ]
    },
    {
     "name": "stderr",
     "output_type": "stream",
     "text": [
      "\n"
     ]
    },
    {
     "name": "stdout",
     "output_type": "stream",
     "text": [
      "\n",
      "      Epoch    GPU_mem   box_loss   cls_loss   dfl_loss  Instances       Size\n"
     ]
    },
    {
     "name": "stderr",
     "output_type": "stream",
     "text": [
      "       5/20         0G      1.839      1.581      1.073         81        416: 100%|██████████| 13/13 [00:13<00:00,  1.01s/it]\n",
      "                 Class     Images  Instances      Box(P          R      mAP50  mAP50-95): 100%|██████████| 2/2 [00:01<00:00,  1.58it/s]"
     ]
    },
    {
     "name": "stdout",
     "output_type": "stream",
     "text": [
      "                   all         15        171      0.969      0.275       0.29      0.146\n"
     ]
    },
    {
     "name": "stderr",
     "output_type": "stream",
     "text": [
      "\n"
     ]
    },
    {
     "name": "stdout",
     "output_type": "stream",
     "text": [
      "\n",
      "      Epoch    GPU_mem   box_loss   cls_loss   dfl_loss  Instances       Size\n"
     ]
    },
    {
     "name": "stderr",
     "output_type": "stream",
     "text": [
      "       6/20         0G      1.785      1.418       1.13         51        416: 100%|██████████| 13/13 [00:14<00:00,  1.13s/it]\n",
      "                 Class     Images  Instances      Box(P          R      mAP50  mAP50-95): 100%|██████████| 2/2 [00:01<00:00,  1.45it/s]"
     ]
    },
    {
     "name": "stdout",
     "output_type": "stream",
     "text": [
      "                   all         15        171      0.969      0.262      0.288      0.147\n"
     ]
    },
    {
     "name": "stderr",
     "output_type": "stream",
     "text": [
      "\n"
     ]
    },
    {
     "name": "stdout",
     "output_type": "stream",
     "text": [
      "\n",
      "      Epoch    GPU_mem   box_loss   cls_loss   dfl_loss  Instances       Size\n"
     ]
    },
    {
     "name": "stderr",
     "output_type": "stream",
     "text": [
      "       7/20         0G      1.808        1.4      1.074        100        416: 100%|██████████| 13/13 [00:12<00:00,  1.01it/s]\n",
      "                 Class     Images  Instances      Box(P          R      mAP50  mAP50-95): 100%|██████████| 2/2 [00:01<00:00,  1.44it/s]"
     ]
    },
    {
     "name": "stdout",
     "output_type": "stream",
     "text": [
      "                   all         15        171      0.961      0.261      0.288      0.139\n"
     ]
    },
    {
     "name": "stderr",
     "output_type": "stream",
     "text": [
      "\n"
     ]
    },
    {
     "name": "stdout",
     "output_type": "stream",
     "text": [
      "\n",
      "      Epoch    GPU_mem   box_loss   cls_loss   dfl_loss  Instances       Size\n"
     ]
    },
    {
     "name": "stderr",
     "output_type": "stream",
     "text": [
      "       8/20         0G      1.736      1.408      1.121         41        416: 100%|██████████| 13/13 [00:13<00:00,  1.05s/it]\n",
      "                 Class     Images  Instances      Box(P          R      mAP50  mAP50-95): 100%|██████████| 2/2 [00:01<00:00,  1.21it/s]"
     ]
    },
    {
     "name": "stdout",
     "output_type": "stream",
     "text": [
      "                   all         15        171      0.943      0.269      0.286      0.136\n"
     ]
    },
    {
     "name": "stderr",
     "output_type": "stream",
     "text": [
      "\n"
     ]
    },
    {
     "name": "stdout",
     "output_type": "stream",
     "text": [
      "\n",
      "      Epoch    GPU_mem   box_loss   cls_loss   dfl_loss  Instances       Size\n"
     ]
    },
    {
     "name": "stderr",
     "output_type": "stream",
     "text": [
      "       9/20         0G       1.67      1.344       1.08         35        416: 100%|██████████| 13/13 [00:15<00:00,  1.21s/it]\n",
      "                 Class     Images  Instances      Box(P          R      mAP50  mAP50-95): 100%|██████████| 2/2 [00:01<00:00,  1.50it/s]"
     ]
    },
    {
     "name": "stdout",
     "output_type": "stream",
     "text": [
      "                   all         15        171      0.943      0.269      0.286      0.136\n"
     ]
    },
    {
     "name": "stderr",
     "output_type": "stream",
     "text": [
      "\n"
     ]
    },
    {
     "name": "stdout",
     "output_type": "stream",
     "text": [
      "\n",
      "      Epoch    GPU_mem   box_loss   cls_loss   dfl_loss  Instances       Size\n"
     ]
    },
    {
     "name": "stderr",
     "output_type": "stream",
     "text": [
      "      10/20         0G      1.719      1.369      1.077         40        416: 100%|██████████| 13/13 [00:15<00:00,  1.19s/it]\n",
      "                 Class     Images  Instances      Box(P          R      mAP50  mAP50-95): 100%|██████████| 2/2 [00:01<00:00,  1.58it/s]"
     ]
    },
    {
     "name": "stdout",
     "output_type": "stream",
     "text": [
      "                   all         15        171      0.928      0.262       0.28      0.136\n"
     ]
    },
    {
     "name": "stderr",
     "output_type": "stream",
     "text": [
      "\n"
     ]
    },
    {
     "name": "stdout",
     "output_type": "stream",
     "text": [
      "Closing dataloader mosaic\n",
      "\n",
      "      Epoch    GPU_mem   box_loss   cls_loss   dfl_loss  Instances       Size\n"
     ]
    },
    {
     "name": "stderr",
     "output_type": "stream",
     "text": [
      "'pin_memory' argument is set as true but no accelerator is found, then device pinned memory won't be used.\n",
      "      11/20         0G      1.599      1.247      1.069         46        416: 100%|██████████| 13/13 [00:16<00:00,  1.23s/it]\n",
      "                 Class     Images  Instances      Box(P          R      mAP50  mAP50-95): 100%|██████████| 2/2 [00:01<00:00,  1.24it/s]"
     ]
    },
    {
     "name": "stdout",
     "output_type": "stream",
     "text": [
      "                   all         15        171       0.94      0.264      0.294      0.148\n"
     ]
    },
    {
     "name": "stderr",
     "output_type": "stream",
     "text": [
      "\n"
     ]
    },
    {
     "name": "stdout",
     "output_type": "stream",
     "text": [
      "\n",
      "      Epoch    GPU_mem   box_loss   cls_loss   dfl_loss  Instances       Size\n"
     ]
    },
    {
     "name": "stderr",
     "output_type": "stream",
     "text": [
      "      12/20         0G      1.622        1.2      1.072         38        416: 100%|██████████| 13/13 [00:16<00:00,  1.26s/it]\n",
      "                 Class     Images  Instances      Box(P          R      mAP50  mAP50-95): 100%|██████████| 2/2 [00:01<00:00,  1.32it/s]"
     ]
    },
    {
     "name": "stdout",
     "output_type": "stream",
     "text": [
      "                   all         15        171      0.936      0.261      0.295      0.152\n"
     ]
    },
    {
     "name": "stderr",
     "output_type": "stream",
     "text": [
      "\n"
     ]
    },
    {
     "name": "stdout",
     "output_type": "stream",
     "text": [
      "\n",
      "      Epoch    GPU_mem   box_loss   cls_loss   dfl_loss  Instances       Size\n"
     ]
    },
    {
     "name": "stderr",
     "output_type": "stream",
     "text": [
      "      13/20         0G      1.595      1.198      1.083         35        416: 100%|██████████| 13/13 [00:14<00:00,  1.14s/it]\n",
      "                 Class     Images  Instances      Box(P          R      mAP50  mAP50-95): 100%|██████████| 2/2 [00:01<00:00,  1.35it/s]"
     ]
    },
    {
     "name": "stdout",
     "output_type": "stream",
     "text": [
      "                   all         15        171      0.967      0.264      0.313       0.16\n"
     ]
    },
    {
     "name": "stderr",
     "output_type": "stream",
     "text": [
      "\n"
     ]
    },
    {
     "name": "stdout",
     "output_type": "stream",
     "text": [
      "\n",
      "      Epoch    GPU_mem   box_loss   cls_loss   dfl_loss  Instances       Size\n"
     ]
    },
    {
     "name": "stderr",
     "output_type": "stream",
     "text": [
      "      14/20         0G      1.611      1.164      1.099         36        416: 100%|██████████| 13/13 [00:15<00:00,  1.17s/it]\n",
      "                 Class     Images  Instances      Box(P          R      mAP50  mAP50-95): 100%|██████████| 2/2 [00:01<00:00,  1.38it/s]"
     ]
    },
    {
     "name": "stdout",
     "output_type": "stream",
     "text": [
      "                   all         15        171      0.955       0.28      0.318      0.162\n"
     ]
    },
    {
     "name": "stderr",
     "output_type": "stream",
     "text": [
      "\n"
     ]
    },
    {
     "name": "stdout",
     "output_type": "stream",
     "text": [
      "\n",
      "      Epoch    GPU_mem   box_loss   cls_loss   dfl_loss  Instances       Size\n"
     ]
    },
    {
     "name": "stderr",
     "output_type": "stream",
     "text": [
      "      15/20         0G      1.584      1.137      1.066         46        416: 100%|██████████| 13/13 [00:16<00:00,  1.24s/it]\n",
      "                 Class     Images  Instances      Box(P          R      mAP50  mAP50-95): 100%|██████████| 2/2 [00:01<00:00,  1.29it/s]"
     ]
    },
    {
     "name": "stdout",
     "output_type": "stream",
     "text": [
      "                   all         15        171      0.955       0.28      0.318      0.162\n"
     ]
    },
    {
     "name": "stderr",
     "output_type": "stream",
     "text": [
      "\n"
     ]
    },
    {
     "name": "stdout",
     "output_type": "stream",
     "text": [
      "\n",
      "      Epoch    GPU_mem   box_loss   cls_loss   dfl_loss  Instances       Size\n"
     ]
    },
    {
     "name": "stderr",
     "output_type": "stream",
     "text": [
      "      16/20         0G      1.577      1.135      1.054         37        416: 100%|██████████| 13/13 [00:15<00:00,  1.21s/it]\n",
      "                 Class     Images  Instances      Box(P          R      mAP50  mAP50-95): 100%|██████████| 2/2 [00:01<00:00,  1.39it/s]"
     ]
    },
    {
     "name": "stdout",
     "output_type": "stream",
     "text": [
      "                   all         15        171      0.971      0.263      0.311      0.163\n"
     ]
    },
    {
     "name": "stderr",
     "output_type": "stream",
     "text": [
      "\n"
     ]
    },
    {
     "name": "stdout",
     "output_type": "stream",
     "text": [
      "\n",
      "      Epoch    GPU_mem   box_loss   cls_loss   dfl_loss  Instances       Size\n"
     ]
    },
    {
     "name": "stderr",
     "output_type": "stream",
     "text": [
      "      17/20         0G      1.557       1.11      1.069         45        416: 100%|██████████| 13/13 [00:16<00:00,  1.26s/it]\n",
      "                 Class     Images  Instances      Box(P          R      mAP50  mAP50-95): 100%|██████████| 2/2 [00:01<00:00,  1.19it/s]"
     ]
    },
    {
     "name": "stdout",
     "output_type": "stream",
     "text": [
      "                   all         15        171       0.97      0.259      0.313      0.162\n"
     ]
    },
    {
     "name": "stderr",
     "output_type": "stream",
     "text": [
      "\n"
     ]
    },
    {
     "name": "stdout",
     "output_type": "stream",
     "text": [
      "\n",
      "      Epoch    GPU_mem   box_loss   cls_loss   dfl_loss  Instances       Size\n"
     ]
    },
    {
     "name": "stderr",
     "output_type": "stream",
     "text": [
      "      18/20         0G      1.577      1.131      1.065         42        416: 100%|██████████| 13/13 [00:15<00:00,  1.17s/it]\n",
      "                 Class     Images  Instances      Box(P          R      mAP50  mAP50-95): 100%|██████████| 2/2 [00:01<00:00,  1.11it/s]"
     ]
    },
    {
     "name": "stdout",
     "output_type": "stream",
     "text": [
      "                   all         15        171      0.969      0.262      0.314      0.161\n"
     ]
    },
    {
     "name": "stderr",
     "output_type": "stream",
     "text": [
      "\n"
     ]
    },
    {
     "name": "stdout",
     "output_type": "stream",
     "text": [
      "\n",
      "      Epoch    GPU_mem   box_loss   cls_loss   dfl_loss  Instances       Size\n"
     ]
    },
    {
     "name": "stderr",
     "output_type": "stream",
     "text": [
      "      19/20         0G      1.556      1.105      1.044         46        416: 100%|██████████| 13/13 [00:15<00:00,  1.20s/it]\n",
      "                 Class     Images  Instances      Box(P          R      mAP50  mAP50-95): 100%|██████████| 2/2 [00:01<00:00,  1.13it/s]"
     ]
    },
    {
     "name": "stdout",
     "output_type": "stream",
     "text": [
      "                   all         15        171      0.975      0.266      0.318      0.166\n"
     ]
    },
    {
     "name": "stderr",
     "output_type": "stream",
     "text": [
      "\n"
     ]
    },
    {
     "name": "stdout",
     "output_type": "stream",
     "text": [
      "\n",
      "      Epoch    GPU_mem   box_loss   cls_loss   dfl_loss  Instances       Size\n"
     ]
    },
    {
     "name": "stderr",
     "output_type": "stream",
     "text": [
      "      20/20         0G      1.554      1.113      1.075         36        416: 100%|██████████| 13/13 [00:16<00:00,  1.24s/it]\n",
      "                 Class     Images  Instances      Box(P          R      mAP50  mAP50-95): 100%|██████████| 2/2 [00:01<00:00,  1.38it/s]"
     ]
    },
    {
     "name": "stdout",
     "output_type": "stream",
     "text": [
      "                   all         15        171      0.975      0.266      0.318      0.166\n"
     ]
    },
    {
     "name": "stderr",
     "output_type": "stream",
     "text": [
      "\n"
     ]
    },
    {
     "name": "stdout",
     "output_type": "stream",
     "text": [
      "\n",
      "20 epochs completed in 0.096 hours.\n",
      "Optimizer stripped from C:\\Users\\biswa\\runs\\detect\\train\\weights\\last.pt, 6.2MB\n",
      "Optimizer stripped from C:\\Users\\biswa\\runs\\detect\\train\\weights\\best.pt, 6.2MB\n",
      "\n",
      "Validating C:\\Users\\biswa\\runs\\detect\\train\\weights\\best.pt...\n",
      "Ultralytics 8.3.158  Python-3.12.7 torch-2.7.1+cpu CPU (12th Gen Intel Core(TM) i5-1235U)\n",
      "Model summary (fused): 72 layers, 3,006,428 parameters, 0 gradients, 8.1 GFLOPs\n"
     ]
    },
    {
     "name": "stderr",
     "output_type": "stream",
     "text": [
      "                 Class     Images  Instances      Box(P          R      mAP50  mAP50-95): 100%|██████████| 2/2 [00:01<00:00,  1.38it/s]\n"
     ]
    },
    {
     "name": "stdout",
     "output_type": "stream",
     "text": [
      "                   all         15        171      0.975      0.266      0.318      0.166\n",
      "                  ball         13         13          1          0          0          0\n",
      "           goal_keeper         14         14          1          0     0.0755     0.0289\n",
      "               players         15        144      0.925      0.799      0.879       0.47\n",
      "Speed: 0.9ms preprocess, 66.5ms inference, 0.0ms loss, 4.9ms postprocess per image\n",
      "Results saved to \u001b[1mC:\\Users\\biswa\\runs\\detect\\train\u001b[0m\n"
     ]
    }
   ],
   "source": [
    "model = YOLO(\"yolov8n.pt\") \n",
    "results = model.train(\n",
    "    data=\"object_detection-1/data.yaml\",  \n",
    "    epochs=20,              \n",
    "    imgsz=416,              \n",
    "    batch=4,                \n",
    "    workers=0,              \n",
    "    device=\"cpu\"            \n",
    ")"
   ]
  },
  {
   "cell_type": "code",
   "execution_count": 10,
   "id": "e5fb96e1-bc90-48ce-bb7a-f90f1ba85cfe",
   "metadata": {},
   "outputs": [
    {
     "name": "stdout",
     "output_type": "stream",
     "text": [
      "\n",
      "WARNING \n",
      "inference results will accumulate in RAM unless `stream=True` is passed, causing potential out-of-memory\n",
      "errors for large sources or long-running streams and videos. See https://docs.ultralytics.com/modes/predict/ for help.\n",
      "\n",
      "Example:\n",
      "    results = model(source=..., stream=True)  # generator of Results objects\n",
      "    for r in results:\n",
      "        boxes = r.boxes  # Boxes object for bbox outputs\n",
      "        masks = r.masks  # Masks object for segment masks outputs\n",
      "        probs = r.probs  # Class probabilities for classification outputs\n",
      "\n",
      "video 1/1 (frame 1/375) C:\\Users\\biswa\\object_detection_project\\15sec_input_720p.mp4: 256x416 21 playerss, 97.1ms\n",
      "video 1/1 (frame 2/375) C:\\Users\\biswa\\object_detection_project\\15sec_input_720p.mp4: 256x416 19 playerss, 76.9ms\n",
      "video 1/1 (frame 3/375) C:\\Users\\biswa\\object_detection_project\\15sec_input_720p.mp4: 256x416 20 playerss, 59.6ms\n",
      "video 1/1 (frame 4/375) C:\\Users\\biswa\\object_detection_project\\15sec_input_720p.mp4: 256x416 17 playerss, 61.7ms\n",
      "video 1/1 (frame 5/375) C:\\Users\\biswa\\object_detection_project\\15sec_input_720p.mp4: 256x416 19 playerss, 51.7ms\n",
      "video 1/1 (frame 6/375) C:\\Users\\biswa\\object_detection_project\\15sec_input_720p.mp4: 256x416 19 playerss, 63.8ms\n",
      "video 1/1 (frame 7/375) C:\\Users\\biswa\\object_detection_project\\15sec_input_720p.mp4: 256x416 17 playerss, 75.1ms\n",
      "video 1/1 (frame 8/375) C:\\Users\\biswa\\object_detection_project\\15sec_input_720p.mp4: 256x416 16 playerss, 74.9ms\n",
      "video 1/1 (frame 9/375) C:\\Users\\biswa\\object_detection_project\\15sec_input_720p.mp4: 256x416 16 playerss, 67.2ms\n",
      "video 1/1 (frame 10/375) C:\\Users\\biswa\\object_detection_project\\15sec_input_720p.mp4: 256x416 16 playerss, 81.8ms\n",
      "video 1/1 (frame 11/375) C:\\Users\\biswa\\object_detection_project\\15sec_input_720p.mp4: 256x416 19 playerss, 75.1ms\n",
      "video 1/1 (frame 12/375) C:\\Users\\biswa\\object_detection_project\\15sec_input_720p.mp4: 256x416 19 playerss, 80.3ms\n",
      "video 1/1 (frame 13/375) C:\\Users\\biswa\\object_detection_project\\15sec_input_720p.mp4: 256x416 17 playerss, 89.7ms\n",
      "video 1/1 (frame 14/375) C:\\Users\\biswa\\object_detection_project\\15sec_input_720p.mp4: 256x416 19 playerss, 97.8ms\n",
      "video 1/1 (frame 15/375) C:\\Users\\biswa\\object_detection_project\\15sec_input_720p.mp4: 256x416 19 playerss, 122.2ms\n",
      "video 1/1 (frame 16/375) C:\\Users\\biswa\\object_detection_project\\15sec_input_720p.mp4: 256x416 16 playerss, 160.5ms\n",
      "video 1/1 (frame 17/375) C:\\Users\\biswa\\object_detection_project\\15sec_input_720p.mp4: 256x416 14 playerss, 151.4ms\n",
      "video 1/1 (frame 18/375) C:\\Users\\biswa\\object_detection_project\\15sec_input_720p.mp4: 256x416 15 playerss, 77.4ms\n",
      "video 1/1 (frame 19/375) C:\\Users\\biswa\\object_detection_project\\15sec_input_720p.mp4: 256x416 15 playerss, 65.1ms\n",
      "video 1/1 (frame 20/375) C:\\Users\\biswa\\object_detection_project\\15sec_input_720p.mp4: 256x416 17 playerss, 77.0ms\n",
      "video 1/1 (frame 21/375) C:\\Users\\biswa\\object_detection_project\\15sec_input_720p.mp4: 256x416 18 playerss, 80.4ms\n",
      "video 1/1 (frame 22/375) C:\\Users\\biswa\\object_detection_project\\15sec_input_720p.mp4: 256x416 16 playerss, 88.5ms\n",
      "video 1/1 (frame 23/375) C:\\Users\\biswa\\object_detection_project\\15sec_input_720p.mp4: 256x416 17 playerss, 59.5ms\n",
      "video 1/1 (frame 24/375) C:\\Users\\biswa\\object_detection_project\\15sec_input_720p.mp4: 256x416 15 playerss, 56.6ms\n",
      "video 1/1 (frame 25/375) C:\\Users\\biswa\\object_detection_project\\15sec_input_720p.mp4: 256x416 18 playerss, 57.5ms\n",
      "video 1/1 (frame 26/375) C:\\Users\\biswa\\object_detection_project\\15sec_input_720p.mp4: 256x416 21 playerss, 61.6ms\n",
      "video 1/1 (frame 27/375) C:\\Users\\biswa\\object_detection_project\\15sec_input_720p.mp4: 256x416 21 playerss, 52.0ms\n",
      "video 1/1 (frame 28/375) C:\\Users\\biswa\\object_detection_project\\15sec_input_720p.mp4: 256x416 21 playerss, 55.6ms\n",
      "video 1/1 (frame 29/375) C:\\Users\\biswa\\object_detection_project\\15sec_input_720p.mp4: 256x416 21 playerss, 72.6ms\n",
      "video 1/1 (frame 30/375) C:\\Users\\biswa\\object_detection_project\\15sec_input_720p.mp4: 256x416 19 playerss, 67.2ms\n",
      "video 1/1 (frame 31/375) C:\\Users\\biswa\\object_detection_project\\15sec_input_720p.mp4: 256x416 19 playerss, 67.4ms\n",
      "video 1/1 (frame 32/375) C:\\Users\\biswa\\object_detection_project\\15sec_input_720p.mp4: 256x416 18 playerss, 61.6ms\n",
      "video 1/1 (frame 33/375) C:\\Users\\biswa\\object_detection_project\\15sec_input_720p.mp4: 256x416 16 playerss, 61.3ms\n",
      "video 1/1 (frame 34/375) C:\\Users\\biswa\\object_detection_project\\15sec_input_720p.mp4: 256x416 16 playerss, 65.9ms\n",
      "video 1/1 (frame 35/375) C:\\Users\\biswa\\object_detection_project\\15sec_input_720p.mp4: 256x416 17 playerss, 68.4ms\n",
      "video 1/1 (frame 36/375) C:\\Users\\biswa\\object_detection_project\\15sec_input_720p.mp4: 256x416 23 playerss, 73.0ms\n",
      "video 1/1 (frame 37/375) C:\\Users\\biswa\\object_detection_project\\15sec_input_720p.mp4: 256x416 25 playerss, 69.4ms\n",
      "video 1/1 (frame 38/375) C:\\Users\\biswa\\object_detection_project\\15sec_input_720p.mp4: 256x416 24 playerss, 65.0ms\n",
      "video 1/1 (frame 39/375) C:\\Users\\biswa\\object_detection_project\\15sec_input_720p.mp4: 256x416 23 playerss, 68.8ms\n",
      "video 1/1 (frame 40/375) C:\\Users\\biswa\\object_detection_project\\15sec_input_720p.mp4: 256x416 27 playerss, 71.3ms\n",
      "video 1/1 (frame 41/375) C:\\Users\\biswa\\object_detection_project\\15sec_input_720p.mp4: 256x416 21 playerss, 68.7ms\n",
      "video 1/1 (frame 42/375) C:\\Users\\biswa\\object_detection_project\\15sec_input_720p.mp4: 256x416 24 playerss, 68.5ms\n",
      "video 1/1 (frame 43/375) C:\\Users\\biswa\\object_detection_project\\15sec_input_720p.mp4: 256x416 22 playerss, 72.3ms\n",
      "video 1/1 (frame 44/375) C:\\Users\\biswa\\object_detection_project\\15sec_input_720p.mp4: 256x416 21 playerss, 63.7ms\n",
      "video 1/1 (frame 45/375) C:\\Users\\biswa\\object_detection_project\\15sec_input_720p.mp4: 256x416 24 playerss, 62.2ms\n",
      "video 1/1 (frame 46/375) C:\\Users\\biswa\\object_detection_project\\15sec_input_720p.mp4: 256x416 26 playerss, 68.3ms\n",
      "video 1/1 (frame 47/375) C:\\Users\\biswa\\object_detection_project\\15sec_input_720p.mp4: 256x416 21 playerss, 64.4ms\n",
      "video 1/1 (frame 48/375) C:\\Users\\biswa\\object_detection_project\\15sec_input_720p.mp4: 256x416 23 playerss, 71.6ms\n",
      "video 1/1 (frame 49/375) C:\\Users\\biswa\\object_detection_project\\15sec_input_720p.mp4: 256x416 22 playerss, 55.4ms\n",
      "video 1/1 (frame 50/375) C:\\Users\\biswa\\object_detection_project\\15sec_input_720p.mp4: 256x416 22 playerss, 57.7ms\n",
      "video 1/1 (frame 51/375) C:\\Users\\biswa\\object_detection_project\\15sec_input_720p.mp4: 256x416 21 playerss, 72.1ms\n",
      "video 1/1 (frame 52/375) C:\\Users\\biswa\\object_detection_project\\15sec_input_720p.mp4: 256x416 22 playerss, 57.7ms\n",
      "video 1/1 (frame 53/375) C:\\Users\\biswa\\object_detection_project\\15sec_input_720p.mp4: 256x416 22 playerss, 53.1ms\n",
      "video 1/1 (frame 54/375) C:\\Users\\biswa\\object_detection_project\\15sec_input_720p.mp4: 256x416 21 playerss, 67.4ms\n",
      "video 1/1 (frame 55/375) C:\\Users\\biswa\\object_detection_project\\15sec_input_720p.mp4: 256x416 17 playerss, 86.3ms\n",
      "video 1/1 (frame 56/375) C:\\Users\\biswa\\object_detection_project\\15sec_input_720p.mp4: 256x416 16 playerss, 59.1ms\n",
      "video 1/1 (frame 57/375) C:\\Users\\biswa\\object_detection_project\\15sec_input_720p.mp4: 256x416 20 playerss, 51.3ms\n",
      "video 1/1 (frame 58/375) C:\\Users\\biswa\\object_detection_project\\15sec_input_720p.mp4: 256x416 19 playerss, 64.8ms\n",
      "video 1/1 (frame 59/375) C:\\Users\\biswa\\object_detection_project\\15sec_input_720p.mp4: 256x416 18 playerss, 74.1ms\n",
      "video 1/1 (frame 60/375) C:\\Users\\biswa\\object_detection_project\\15sec_input_720p.mp4: 256x416 17 playerss, 73.0ms\n",
      "video 1/1 (frame 61/375) C:\\Users\\biswa\\object_detection_project\\15sec_input_720p.mp4: 256x416 17 playerss, 67.1ms\n",
      "video 1/1 (frame 62/375) C:\\Users\\biswa\\object_detection_project\\15sec_input_720p.mp4: 256x416 18 playerss, 67.0ms\n",
      "video 1/1 (frame 63/375) C:\\Users\\biswa\\object_detection_project\\15sec_input_720p.mp4: 256x416 20 playerss, 62.2ms\n",
      "video 1/1 (frame 64/375) C:\\Users\\biswa\\object_detection_project\\15sec_input_720p.mp4: 256x416 18 playerss, 75.3ms\n",
      "video 1/1 (frame 65/375) C:\\Users\\biswa\\object_detection_project\\15sec_input_720p.mp4: 256x416 19 playerss, 77.2ms\n",
      "video 1/1 (frame 66/375) C:\\Users\\biswa\\object_detection_project\\15sec_input_720p.mp4: 256x416 20 playerss, 70.6ms\n",
      "video 1/1 (frame 67/375) C:\\Users\\biswa\\object_detection_project\\15sec_input_720p.mp4: 256x416 21 playerss, 64.3ms\n",
      "video 1/1 (frame 68/375) C:\\Users\\biswa\\object_detection_project\\15sec_input_720p.mp4: 256x416 19 playerss, 59.0ms\n",
      "video 1/1 (frame 69/375) C:\\Users\\biswa\\object_detection_project\\15sec_input_720p.mp4: 256x416 19 playerss, 51.7ms\n",
      "video 1/1 (frame 70/375) C:\\Users\\biswa\\object_detection_project\\15sec_input_720p.mp4: 256x416 22 playerss, 60.8ms\n",
      "video 1/1 (frame 71/375) C:\\Users\\biswa\\object_detection_project\\15sec_input_720p.mp4: 256x416 21 playerss, 78.6ms\n",
      "video 1/1 (frame 72/375) C:\\Users\\biswa\\object_detection_project\\15sec_input_720p.mp4: 256x416 23 playerss, 95.0ms\n",
      "video 1/1 (frame 73/375) C:\\Users\\biswa\\object_detection_project\\15sec_input_720p.mp4: 256x416 21 playerss, 79.5ms\n",
      "video 1/1 (frame 74/375) C:\\Users\\biswa\\object_detection_project\\15sec_input_720p.mp4: 256x416 23 playerss, 171.9ms\n",
      "video 1/1 (frame 75/375) C:\\Users\\biswa\\object_detection_project\\15sec_input_720p.mp4: 256x416 24 playerss, 89.4ms\n",
      "video 1/1 (frame 76/375) C:\\Users\\biswa\\object_detection_project\\15sec_input_720p.mp4: 256x416 21 playerss, 70.4ms\n",
      "video 1/1 (frame 77/375) C:\\Users\\biswa\\object_detection_project\\15sec_input_720p.mp4: 256x416 22 playerss, 69.9ms\n",
      "video 1/1 (frame 78/375) C:\\Users\\biswa\\object_detection_project\\15sec_input_720p.mp4: 256x416 21 playerss, 53.7ms\n",
      "video 1/1 (frame 79/375) C:\\Users\\biswa\\object_detection_project\\15sec_input_720p.mp4: 256x416 20 playerss, 65.2ms\n",
      "video 1/1 (frame 80/375) C:\\Users\\biswa\\object_detection_project\\15sec_input_720p.mp4: 256x416 18 playerss, 64.1ms\n",
      "video 1/1 (frame 81/375) C:\\Users\\biswa\\object_detection_project\\15sec_input_720p.mp4: 256x416 20 playerss, 80.8ms\n",
      "video 1/1 (frame 82/375) C:\\Users\\biswa\\object_detection_project\\15sec_input_720p.mp4: 256x416 23 playerss, 141.4ms\n",
      "video 1/1 (frame 83/375) C:\\Users\\biswa\\object_detection_project\\15sec_input_720p.mp4: 256x416 22 playerss, 55.9ms\n",
      "video 1/1 (frame 84/375) C:\\Users\\biswa\\object_detection_project\\15sec_input_720p.mp4: 256x416 22 playerss, 60.6ms\n",
      "video 1/1 (frame 85/375) C:\\Users\\biswa\\object_detection_project\\15sec_input_720p.mp4: 256x416 23 playerss, 90.0ms\n",
      "video 1/1 (frame 86/375) C:\\Users\\biswa\\object_detection_project\\15sec_input_720p.mp4: 256x416 23 playerss, 82.3ms\n",
      "video 1/1 (frame 87/375) C:\\Users\\biswa\\object_detection_project\\15sec_input_720p.mp4: 256x416 23 playerss, 164.2ms\n",
      "video 1/1 (frame 88/375) C:\\Users\\biswa\\object_detection_project\\15sec_input_720p.mp4: 256x416 19 playerss, 64.1ms\n",
      "video 1/1 (frame 89/375) C:\\Users\\biswa\\object_detection_project\\15sec_input_720p.mp4: 256x416 17 playerss, 72.0ms\n",
      "video 1/1 (frame 90/375) C:\\Users\\biswa\\object_detection_project\\15sec_input_720p.mp4: 256x416 17 playerss, 141.4ms\n",
      "video 1/1 (frame 91/375) C:\\Users\\biswa\\object_detection_project\\15sec_input_720p.mp4: 256x416 16 playerss, 125.9ms\n",
      "video 1/1 (frame 92/375) C:\\Users\\biswa\\object_detection_project\\15sec_input_720p.mp4: 256x416 16 playerss, 72.4ms\n",
      "video 1/1 (frame 93/375) C:\\Users\\biswa\\object_detection_project\\15sec_input_720p.mp4: 256x416 18 playerss, 66.4ms\n",
      "video 1/1 (frame 94/375) C:\\Users\\biswa\\object_detection_project\\15sec_input_720p.mp4: 256x416 18 playerss, 81.5ms\n",
      "video 1/1 (frame 95/375) C:\\Users\\biswa\\object_detection_project\\15sec_input_720p.mp4: 256x416 23 playerss, 187.0ms\n",
      "video 1/1 (frame 96/375) C:\\Users\\biswa\\object_detection_project\\15sec_input_720p.mp4: 256x416 21 playerss, 86.2ms\n",
      "video 1/1 (frame 97/375) C:\\Users\\biswa\\object_detection_project\\15sec_input_720p.mp4: 256x416 20 playerss, 76.8ms\n",
      "video 1/1 (frame 98/375) C:\\Users\\biswa\\object_detection_project\\15sec_input_720p.mp4: 256x416 20 playerss, 66.8ms\n",
      "video 1/1 (frame 99/375) C:\\Users\\biswa\\object_detection_project\\15sec_input_720p.mp4: 256x416 18 playerss, 63.4ms\n",
      "video 1/1 (frame 100/375) C:\\Users\\biswa\\object_detection_project\\15sec_input_720p.mp4: 256x416 19 playerss, 76.8ms\n",
      "video 1/1 (frame 101/375) C:\\Users\\biswa\\object_detection_project\\15sec_input_720p.mp4: 256x416 19 playerss, 75.2ms\n",
      "video 1/1 (frame 102/375) C:\\Users\\biswa\\object_detection_project\\15sec_input_720p.mp4: 256x416 19 playerss, 64.2ms\n",
      "video 1/1 (frame 103/375) C:\\Users\\biswa\\object_detection_project\\15sec_input_720p.mp4: 256x416 20 playerss, 68.0ms\n",
      "video 1/1 (frame 104/375) C:\\Users\\biswa\\object_detection_project\\15sec_input_720p.mp4: 256x416 24 playerss, 91.2ms\n",
      "video 1/1 (frame 105/375) C:\\Users\\biswa\\object_detection_project\\15sec_input_720p.mp4: 256x416 23 playerss, 83.2ms\n",
      "video 1/1 (frame 106/375) C:\\Users\\biswa\\object_detection_project\\15sec_input_720p.mp4: 256x416 21 playerss, 86.8ms\n",
      "video 1/1 (frame 107/375) C:\\Users\\biswa\\object_detection_project\\15sec_input_720p.mp4: 256x416 17 playerss, 81.2ms\n",
      "video 1/1 (frame 108/375) C:\\Users\\biswa\\object_detection_project\\15sec_input_720p.mp4: 256x416 21 playerss, 80.7ms\n",
      "video 1/1 (frame 109/375) C:\\Users\\biswa\\object_detection_project\\15sec_input_720p.mp4: 256x416 17 playerss, 70.4ms\n",
      "video 1/1 (frame 110/375) C:\\Users\\biswa\\object_detection_project\\15sec_input_720p.mp4: 256x416 22 playerss, 64.8ms\n",
      "video 1/1 (frame 111/375) C:\\Users\\biswa\\object_detection_project\\15sec_input_720p.mp4: 256x416 21 playerss, 75.8ms\n",
      "video 1/1 (frame 112/375) C:\\Users\\biswa\\object_detection_project\\15sec_input_720p.mp4: 256x416 21 playerss, 89.2ms\n",
      "video 1/1 (frame 113/375) C:\\Users\\biswa\\object_detection_project\\15sec_input_720p.mp4: 256x416 20 playerss, 71.3ms\n",
      "video 1/1 (frame 114/375) C:\\Users\\biswa\\object_detection_project\\15sec_input_720p.mp4: 256x416 20 playerss, 54.0ms\n",
      "video 1/1 (frame 115/375) C:\\Users\\biswa\\object_detection_project\\15sec_input_720p.mp4: 256x416 19 playerss, 69.7ms\n",
      "video 1/1 (frame 116/375) C:\\Users\\biswa\\object_detection_project\\15sec_input_720p.mp4: 256x416 18 playerss, 79.9ms\n",
      "video 1/1 (frame 117/375) C:\\Users\\biswa\\object_detection_project\\15sec_input_720p.mp4: 256x416 17 playerss, 71.4ms\n",
      "video 1/1 (frame 118/375) C:\\Users\\biswa\\object_detection_project\\15sec_input_720p.mp4: 256x416 19 playerss, 63.2ms\n",
      "video 1/1 (frame 119/375) C:\\Users\\biswa\\object_detection_project\\15sec_input_720p.mp4: 256x416 17 playerss, 73.6ms\n",
      "video 1/1 (frame 120/375) C:\\Users\\biswa\\object_detection_project\\15sec_input_720p.mp4: 256x416 15 playerss, 180.2ms\n",
      "video 1/1 (frame 121/375) C:\\Users\\biswa\\object_detection_project\\15sec_input_720p.mp4: 256x416 17 playerss, 78.9ms\n",
      "video 1/1 (frame 122/375) C:\\Users\\biswa\\object_detection_project\\15sec_input_720p.mp4: 256x416 22 playerss, 87.9ms\n",
      "video 1/1 (frame 123/375) C:\\Users\\biswa\\object_detection_project\\15sec_input_720p.mp4: 256x416 16 playerss, 89.9ms\n",
      "video 1/1 (frame 124/375) C:\\Users\\biswa\\object_detection_project\\15sec_input_720p.mp4: 256x416 17 playerss, 78.0ms\n",
      "video 1/1 (frame 125/375) C:\\Users\\biswa\\object_detection_project\\15sec_input_720p.mp4: 256x416 17 playerss, 69.5ms\n",
      "video 1/1 (frame 126/375) C:\\Users\\biswa\\object_detection_project\\15sec_input_720p.mp4: 256x416 16 playerss, 53.7ms\n",
      "video 1/1 (frame 127/375) C:\\Users\\biswa\\object_detection_project\\15sec_input_720p.mp4: 256x416 18 playerss, 69.8ms\n",
      "video 1/1 (frame 128/375) C:\\Users\\biswa\\object_detection_project\\15sec_input_720p.mp4: 256x416 19 playerss, 77.2ms\n",
      "video 1/1 (frame 129/375) C:\\Users\\biswa\\object_detection_project\\15sec_input_720p.mp4: 256x416 19 playerss, 110.0ms\n",
      "video 1/1 (frame 130/375) C:\\Users\\biswa\\object_detection_project\\15sec_input_720p.mp4: 256x416 20 playerss, 68.6ms\n",
      "video 1/1 (frame 131/375) C:\\Users\\biswa\\object_detection_project\\15sec_input_720p.mp4: 256x416 19 playerss, 72.7ms\n",
      "video 1/1 (frame 132/375) C:\\Users\\biswa\\object_detection_project\\15sec_input_720p.mp4: 256x416 16 playerss, 162.8ms\n",
      "video 1/1 (frame 133/375) C:\\Users\\biswa\\object_detection_project\\15sec_input_720p.mp4: 256x416 15 playerss, 185.4ms\n",
      "video 1/1 (frame 134/375) C:\\Users\\biswa\\object_detection_project\\15sec_input_720p.mp4: 256x416 19 playerss, 69.1ms\n",
      "video 1/1 (frame 135/375) C:\\Users\\biswa\\object_detection_project\\15sec_input_720p.mp4: 256x416 18 playerss, 57.3ms\n",
      "video 1/1 (frame 136/375) C:\\Users\\biswa\\object_detection_project\\15sec_input_720p.mp4: 256x416 20 playerss, 55.2ms\n",
      "video 1/1 (frame 137/375) C:\\Users\\biswa\\object_detection_project\\15sec_input_720p.mp4: 256x416 18 playerss, 70.1ms\n",
      "video 1/1 (frame 138/375) C:\\Users\\biswa\\object_detection_project\\15sec_input_720p.mp4: 256x416 17 playerss, 61.9ms\n",
      "video 1/1 (frame 139/375) C:\\Users\\biswa\\object_detection_project\\15sec_input_720p.mp4: 256x416 18 playerss, 75.5ms\n",
      "video 1/1 (frame 140/375) C:\\Users\\biswa\\object_detection_project\\15sec_input_720p.mp4: 256x416 16 playerss, 139.8ms\n",
      "video 1/1 (frame 141/375) C:\\Users\\biswa\\object_detection_project\\15sec_input_720p.mp4: 256x416 22 playerss, 101.4ms\n",
      "video 1/1 (frame 142/375) C:\\Users\\biswa\\object_detection_project\\15sec_input_720p.mp4: 256x416 16 playerss, 113.4ms\n",
      "video 1/1 (frame 143/375) C:\\Users\\biswa\\object_detection_project\\15sec_input_720p.mp4: 256x416 21 playerss, 156.8ms\n",
      "video 1/1 (frame 144/375) C:\\Users\\biswa\\object_detection_project\\15sec_input_720p.mp4: 256x416 21 playerss, 194.5ms\n",
      "video 1/1 (frame 145/375) C:\\Users\\biswa\\object_detection_project\\15sec_input_720p.mp4: 256x416 20 playerss, 153.1ms\n",
      "video 1/1 (frame 146/375) C:\\Users\\biswa\\object_detection_project\\15sec_input_720p.mp4: 256x416 21 playerss, 86.4ms\n",
      "video 1/1 (frame 147/375) C:\\Users\\biswa\\object_detection_project\\15sec_input_720p.mp4: 256x416 15 playerss, 67.0ms\n",
      "video 1/1 (frame 148/375) C:\\Users\\biswa\\object_detection_project\\15sec_input_720p.mp4: 256x416 21 playerss, 69.1ms\n",
      "video 1/1 (frame 149/375) C:\\Users\\biswa\\object_detection_project\\15sec_input_720p.mp4: 256x416 18 playerss, 93.1ms\n",
      "video 1/1 (frame 150/375) C:\\Users\\biswa\\object_detection_project\\15sec_input_720p.mp4: 256x416 17 playerss, 78.2ms\n",
      "video 1/1 (frame 151/375) C:\\Users\\biswa\\object_detection_project\\15sec_input_720p.mp4: 256x416 21 playerss, 135.1ms\n",
      "video 1/1 (frame 152/375) C:\\Users\\biswa\\object_detection_project\\15sec_input_720p.mp4: 256x416 24 playerss, 78.5ms\n",
      "video 1/1 (frame 153/375) C:\\Users\\biswa\\object_detection_project\\15sec_input_720p.mp4: 256x416 18 playerss, 72.9ms\n",
      "video 1/1 (frame 154/375) C:\\Users\\biswa\\object_detection_project\\15sec_input_720p.mp4: 256x416 17 playerss, 80.5ms\n",
      "video 1/1 (frame 155/375) C:\\Users\\biswa\\object_detection_project\\15sec_input_720p.mp4: 256x416 20 playerss, 74.8ms\n",
      "video 1/1 (frame 156/375) C:\\Users\\biswa\\object_detection_project\\15sec_input_720p.mp4: 256x416 18 playerss, 69.4ms\n",
      "video 1/1 (frame 157/375) C:\\Users\\biswa\\object_detection_project\\15sec_input_720p.mp4: 256x416 18 playerss, 82.0ms\n",
      "video 1/1 (frame 158/375) C:\\Users\\biswa\\object_detection_project\\15sec_input_720p.mp4: 256x416 18 playerss, 69.6ms\n",
      "video 1/1 (frame 159/375) C:\\Users\\biswa\\object_detection_project\\15sec_input_720p.mp4: 256x416 19 playerss, 88.7ms\n",
      "video 1/1 (frame 160/375) C:\\Users\\biswa\\object_detection_project\\15sec_input_720p.mp4: 256x416 16 playerss, 132.4ms\n",
      "video 1/1 (frame 161/375) C:\\Users\\biswa\\object_detection_project\\15sec_input_720p.mp4: 256x416 19 playerss, 69.4ms\n",
      "video 1/1 (frame 162/375) C:\\Users\\biswa\\object_detection_project\\15sec_input_720p.mp4: 256x416 15 playerss, 71.5ms\n",
      "video 1/1 (frame 163/375) C:\\Users\\biswa\\object_detection_project\\15sec_input_720p.mp4: 256x416 16 playerss, 69.3ms\n",
      "video 1/1 (frame 164/375) C:\\Users\\biswa\\object_detection_project\\15sec_input_720p.mp4: 256x416 17 playerss, 89.9ms\n",
      "video 1/1 (frame 165/375) C:\\Users\\biswa\\object_detection_project\\15sec_input_720p.mp4: 256x416 22 playerss, 72.2ms\n",
      "video 1/1 (frame 166/375) C:\\Users\\biswa\\object_detection_project\\15sec_input_720p.mp4: 256x416 16 playerss, 63.3ms\n",
      "video 1/1 (frame 167/375) C:\\Users\\biswa\\object_detection_project\\15sec_input_720p.mp4: 256x416 20 playerss, 66.7ms\n",
      "video 1/1 (frame 168/375) C:\\Users\\biswa\\object_detection_project\\15sec_input_720p.mp4: 256x416 15 playerss, 78.2ms\n",
      "video 1/1 (frame 169/375) C:\\Users\\biswa\\object_detection_project\\15sec_input_720p.mp4: 256x416 21 playerss, 75.7ms\n",
      "video 1/1 (frame 170/375) C:\\Users\\biswa\\object_detection_project\\15sec_input_720p.mp4: 256x416 20 playerss, 76.7ms\n",
      "video 1/1 (frame 171/375) C:\\Users\\biswa\\object_detection_project\\15sec_input_720p.mp4: 256x416 16 playerss, 59.6ms\n",
      "video 1/1 (frame 172/375) C:\\Users\\biswa\\object_detection_project\\15sec_input_720p.mp4: 256x416 19 playerss, 68.6ms\n",
      "video 1/1 (frame 173/375) C:\\Users\\biswa\\object_detection_project\\15sec_input_720p.mp4: 256x416 22 playerss, 59.6ms\n",
      "video 1/1 (frame 174/375) C:\\Users\\biswa\\object_detection_project\\15sec_input_720p.mp4: 256x416 16 playerss, 54.5ms\n",
      "video 1/1 (frame 175/375) C:\\Users\\biswa\\object_detection_project\\15sec_input_720p.mp4: 256x416 17 playerss, 73.2ms\n",
      "video 1/1 (frame 176/375) C:\\Users\\biswa\\object_detection_project\\15sec_input_720p.mp4: 256x416 17 playerss, 54.7ms\n",
      "video 1/1 (frame 177/375) C:\\Users\\biswa\\object_detection_project\\15sec_input_720p.mp4: 256x416 16 playerss, 63.6ms\n",
      "video 1/1 (frame 178/375) C:\\Users\\biswa\\object_detection_project\\15sec_input_720p.mp4: 256x416 16 playerss, 63.8ms\n",
      "video 1/1 (frame 179/375) C:\\Users\\biswa\\object_detection_project\\15sec_input_720p.mp4: 256x416 19 playerss, 58.8ms\n",
      "video 1/1 (frame 180/375) C:\\Users\\biswa\\object_detection_project\\15sec_input_720p.mp4: 256x416 15 playerss, 76.1ms\n",
      "video 1/1 (frame 181/375) C:\\Users\\biswa\\object_detection_project\\15sec_input_720p.mp4: 256x416 16 playerss, 71.8ms\n",
      "video 1/1 (frame 182/375) C:\\Users\\biswa\\object_detection_project\\15sec_input_720p.mp4: 256x416 17 playerss, 61.1ms\n",
      "video 1/1 (frame 183/375) C:\\Users\\biswa\\object_detection_project\\15sec_input_720p.mp4: 256x416 19 playerss, 67.6ms\n",
      "video 1/1 (frame 184/375) C:\\Users\\biswa\\object_detection_project\\15sec_input_720p.mp4: 256x416 22 playerss, 67.0ms\n",
      "video 1/1 (frame 185/375) C:\\Users\\biswa\\object_detection_project\\15sec_input_720p.mp4: 256x416 20 playerss, 55.2ms\n",
      "video 1/1 (frame 186/375) C:\\Users\\biswa\\object_detection_project\\15sec_input_720p.mp4: 256x416 12 playerss, 72.5ms\n",
      "video 1/1 (frame 187/375) C:\\Users\\biswa\\object_detection_project\\15sec_input_720p.mp4: 256x416 15 playerss, 63.3ms\n",
      "video 1/1 (frame 188/375) C:\\Users\\biswa\\object_detection_project\\15sec_input_720p.mp4: 256x416 19 playerss, 62.1ms\n",
      "video 1/1 (frame 189/375) C:\\Users\\biswa\\object_detection_project\\15sec_input_720p.mp4: 256x416 21 playerss, 57.5ms\n",
      "video 1/1 (frame 190/375) C:\\Users\\biswa\\object_detection_project\\15sec_input_720p.mp4: 256x416 20 playerss, 56.6ms\n",
      "video 1/1 (frame 191/375) C:\\Users\\biswa\\object_detection_project\\15sec_input_720p.mp4: 256x416 16 playerss, 77.4ms\n",
      "video 1/1 (frame 192/375) C:\\Users\\biswa\\object_detection_project\\15sec_input_720p.mp4: 256x416 21 playerss, 64.9ms\n",
      "video 1/1 (frame 193/375) C:\\Users\\biswa\\object_detection_project\\15sec_input_720p.mp4: 256x416 18 playerss, 73.6ms\n",
      "video 1/1 (frame 194/375) C:\\Users\\biswa\\object_detection_project\\15sec_input_720p.mp4: 256x416 17 playerss, 59.2ms\n",
      "video 1/1 (frame 195/375) C:\\Users\\biswa\\object_detection_project\\15sec_input_720p.mp4: 256x416 21 playerss, 51.7ms\n",
      "video 1/1 (frame 196/375) C:\\Users\\biswa\\object_detection_project\\15sec_input_720p.mp4: 256x416 16 playerss, 65.4ms\n",
      "video 1/1 (frame 197/375) C:\\Users\\biswa\\object_detection_project\\15sec_input_720p.mp4: 256x416 16 playerss, 76.2ms\n",
      "video 1/1 (frame 198/375) C:\\Users\\biswa\\object_detection_project\\15sec_input_720p.mp4: 256x416 17 playerss, 162.4ms\n",
      "video 1/1 (frame 199/375) C:\\Users\\biswa\\object_detection_project\\15sec_input_720p.mp4: 256x416 16 playerss, 79.7ms\n",
      "video 1/1 (frame 200/375) C:\\Users\\biswa\\object_detection_project\\15sec_input_720p.mp4: 256x416 19 playerss, 68.9ms\n",
      "video 1/1 (frame 201/375) C:\\Users\\biswa\\object_detection_project\\15sec_input_720p.mp4: 256x416 14 playerss, 64.5ms\n",
      "video 1/1 (frame 202/375) C:\\Users\\biswa\\object_detection_project\\15sec_input_720p.mp4: 256x416 18 playerss, 68.9ms\n",
      "video 1/1 (frame 203/375) C:\\Users\\biswa\\object_detection_project\\15sec_input_720p.mp4: 256x416 18 playerss, 72.6ms\n",
      "video 1/1 (frame 204/375) C:\\Users\\biswa\\object_detection_project\\15sec_input_720p.mp4: 256x416 23 playerss, 98.3ms\n",
      "video 1/1 (frame 205/375) C:\\Users\\biswa\\object_detection_project\\15sec_input_720p.mp4: 256x416 20 playerss, 75.8ms\n",
      "video 1/1 (frame 206/375) C:\\Users\\biswa\\object_detection_project\\15sec_input_720p.mp4: 256x416 20 playerss, 84.7ms\n",
      "video 1/1 (frame 207/375) C:\\Users\\biswa\\object_detection_project\\15sec_input_720p.mp4: 256x416 19 playerss, 173.6ms\n",
      "video 1/1 (frame 208/375) C:\\Users\\biswa\\object_detection_project\\15sec_input_720p.mp4: 256x416 15 playerss, 73.4ms\n",
      "video 1/1 (frame 209/375) C:\\Users\\biswa\\object_detection_project\\15sec_input_720p.mp4: 256x416 14 playerss, 63.3ms\n",
      "video 1/1 (frame 210/375) C:\\Users\\biswa\\object_detection_project\\15sec_input_720p.mp4: 256x416 19 playerss, 65.2ms\n",
      "video 1/1 (frame 211/375) C:\\Users\\biswa\\object_detection_project\\15sec_input_720p.mp4: 256x416 16 playerss, 86.7ms\n",
      "video 1/1 (frame 212/375) C:\\Users\\biswa\\object_detection_project\\15sec_input_720p.mp4: 256x416 14 playerss, 70.3ms\n",
      "video 1/1 (frame 213/375) C:\\Users\\biswa\\object_detection_project\\15sec_input_720p.mp4: 256x416 15 playerss, 62.2ms\n",
      "video 1/1 (frame 214/375) C:\\Users\\biswa\\object_detection_project\\15sec_input_720p.mp4: 256x416 10 playerss, 76.0ms\n",
      "video 1/1 (frame 215/375) C:\\Users\\biswa\\object_detection_project\\15sec_input_720p.mp4: 256x416 12 playerss, 92.5ms\n",
      "video 1/1 (frame 216/375) C:\\Users\\biswa\\object_detection_project\\15sec_input_720p.mp4: 256x416 10 playerss, 83.6ms\n",
      "video 1/1 (frame 217/375) C:\\Users\\biswa\\object_detection_project\\15sec_input_720p.mp4: 256x416 11 playerss, 65.9ms\n",
      "video 1/1 (frame 218/375) C:\\Users\\biswa\\object_detection_project\\15sec_input_720p.mp4: 256x416 11 playerss, 54.3ms\n",
      "video 1/1 (frame 219/375) C:\\Users\\biswa\\object_detection_project\\15sec_input_720p.mp4: 256x416 14 playerss, 66.4ms\n",
      "video 1/1 (frame 220/375) C:\\Users\\biswa\\object_detection_project\\15sec_input_720p.mp4: 256x416 13 playerss, 63.5ms\n",
      "video 1/1 (frame 221/375) C:\\Users\\biswa\\object_detection_project\\15sec_input_720p.mp4: 256x416 13 playerss, 63.7ms\n",
      "video 1/1 (frame 222/375) C:\\Users\\biswa\\object_detection_project\\15sec_input_720p.mp4: 256x416 15 playerss, 86.0ms\n",
      "video 1/1 (frame 223/375) C:\\Users\\biswa\\object_detection_project\\15sec_input_720p.mp4: 256x416 11 playerss, 73.8ms\n",
      "video 1/1 (frame 224/375) C:\\Users\\biswa\\object_detection_project\\15sec_input_720p.mp4: 256x416 9 playerss, 77.8ms\n",
      "video 1/1 (frame 225/375) C:\\Users\\biswa\\object_detection_project\\15sec_input_720p.mp4: 256x416 10 playerss, 70.9ms\n",
      "video 1/1 (frame 226/375) C:\\Users\\biswa\\object_detection_project\\15sec_input_720p.mp4: 256x416 14 playerss, 66.6ms\n",
      "video 1/1 (frame 227/375) C:\\Users\\biswa\\object_detection_project\\15sec_input_720p.mp4: 256x416 13 playerss, 64.3ms\n",
      "video 1/1 (frame 228/375) C:\\Users\\biswa\\object_detection_project\\15sec_input_720p.mp4: 256x416 14 playerss, 67.2ms\n",
      "video 1/1 (frame 229/375) C:\\Users\\biswa\\object_detection_project\\15sec_input_720p.mp4: 256x416 14 playerss, 70.9ms\n",
      "video 1/1 (frame 230/375) C:\\Users\\biswa\\object_detection_project\\15sec_input_720p.mp4: 256x416 13 playerss, 65.2ms\n",
      "video 1/1 (frame 231/375) C:\\Users\\biswa\\object_detection_project\\15sec_input_720p.mp4: 256x416 13 playerss, 55.4ms\n",
      "video 1/1 (frame 232/375) C:\\Users\\biswa\\object_detection_project\\15sec_input_720p.mp4: 256x416 11 playerss, 57.8ms\n",
      "video 1/1 (frame 233/375) C:\\Users\\biswa\\object_detection_project\\15sec_input_720p.mp4: 256x416 11 playerss, 80.1ms\n",
      "video 1/1 (frame 234/375) C:\\Users\\biswa\\object_detection_project\\15sec_input_720p.mp4: 256x416 10 playerss, 153.6ms\n",
      "video 1/1 (frame 235/375) C:\\Users\\biswa\\object_detection_project\\15sec_input_720p.mp4: 256x416 15 playerss, 89.5ms\n",
      "video 1/1 (frame 236/375) C:\\Users\\biswa\\object_detection_project\\15sec_input_720p.mp4: 256x416 11 playerss, 76.0ms\n",
      "video 1/1 (frame 237/375) C:\\Users\\biswa\\object_detection_project\\15sec_input_720p.mp4: 256x416 13 playerss, 56.0ms\n",
      "video 1/1 (frame 238/375) C:\\Users\\biswa\\object_detection_project\\15sec_input_720p.mp4: 256x416 10 playerss, 55.4ms\n",
      "video 1/1 (frame 239/375) C:\\Users\\biswa\\object_detection_project\\15sec_input_720p.mp4: 256x416 12 playerss, 53.8ms\n",
      "video 1/1 (frame 240/375) C:\\Users\\biswa\\object_detection_project\\15sec_input_720p.mp4: 256x416 12 playerss, 56.7ms\n",
      "video 1/1 (frame 241/375) C:\\Users\\biswa\\object_detection_project\\15sec_input_720p.mp4: 256x416 11 playerss, 79.4ms\n",
      "video 1/1 (frame 242/375) C:\\Users\\biswa\\object_detection_project\\15sec_input_720p.mp4: 256x416 11 playerss, 87.1ms\n",
      "video 1/1 (frame 243/375) C:\\Users\\biswa\\object_detection_project\\15sec_input_720p.mp4: 256x416 10 playerss, 60.0ms\n",
      "video 1/1 (frame 244/375) C:\\Users\\biswa\\object_detection_project\\15sec_input_720p.mp4: 256x416 12 playerss, 67.6ms\n",
      "video 1/1 (frame 245/375) C:\\Users\\biswa\\object_detection_project\\15sec_input_720p.mp4: 256x416 9 playerss, 73.8ms\n",
      "video 1/1 (frame 246/375) C:\\Users\\biswa\\object_detection_project\\15sec_input_720p.mp4: 256x416 10 playerss, 79.6ms\n",
      "video 1/1 (frame 247/375) C:\\Users\\biswa\\object_detection_project\\15sec_input_720p.mp4: 256x416 11 playerss, 70.1ms\n",
      "video 1/1 (frame 248/375) C:\\Users\\biswa\\object_detection_project\\15sec_input_720p.mp4: 256x416 13 playerss, 58.3ms\n",
      "video 1/1 (frame 249/375) C:\\Users\\biswa\\object_detection_project\\15sec_input_720p.mp4: 256x416 13 playerss, 59.2ms\n",
      "video 1/1 (frame 250/375) C:\\Users\\biswa\\object_detection_project\\15sec_input_720p.mp4: 256x416 14 playerss, 70.7ms\n",
      "video 1/1 (frame 251/375) C:\\Users\\biswa\\object_detection_project\\15sec_input_720p.mp4: 256x416 14 playerss, 64.9ms\n",
      "video 1/1 (frame 252/375) C:\\Users\\biswa\\object_detection_project\\15sec_input_720p.mp4: 256x416 14 playerss, 77.6ms\n",
      "video 1/1 (frame 253/375) C:\\Users\\biswa\\object_detection_project\\15sec_input_720p.mp4: 256x416 11 playerss, 76.7ms\n",
      "video 1/1 (frame 254/375) C:\\Users\\biswa\\object_detection_project\\15sec_input_720p.mp4: 256x416 13 playerss, 76.3ms\n",
      "video 1/1 (frame 255/375) C:\\Users\\biswa\\object_detection_project\\15sec_input_720p.mp4: 256x416 12 playerss, 76.8ms\n",
      "video 1/1 (frame 256/375) C:\\Users\\biswa\\object_detection_project\\15sec_input_720p.mp4: 256x416 11 playerss, 80.6ms\n",
      "video 1/1 (frame 257/375) C:\\Users\\biswa\\object_detection_project\\15sec_input_720p.mp4: 256x416 13 playerss, 74.1ms\n",
      "video 1/1 (frame 258/375) C:\\Users\\biswa\\object_detection_project\\15sec_input_720p.mp4: 256x416 13 playerss, 139.3ms\n",
      "video 1/1 (frame 259/375) C:\\Users\\biswa\\object_detection_project\\15sec_input_720p.mp4: 256x416 12 playerss, 73.6ms\n",
      "video 1/1 (frame 260/375) C:\\Users\\biswa\\object_detection_project\\15sec_input_720p.mp4: 256x416 14 playerss, 69.3ms\n",
      "video 1/1 (frame 261/375) C:\\Users\\biswa\\object_detection_project\\15sec_input_720p.mp4: 256x416 14 playerss, 64.9ms\n",
      "video 1/1 (frame 262/375) C:\\Users\\biswa\\object_detection_project\\15sec_input_720p.mp4: 256x416 11 playerss, 61.9ms\n",
      "video 1/1 (frame 263/375) C:\\Users\\biswa\\object_detection_project\\15sec_input_720p.mp4: 256x416 15 playerss, 60.0ms\n",
      "video 1/1 (frame 264/375) C:\\Users\\biswa\\object_detection_project\\15sec_input_720p.mp4: 256x416 13 playerss, 90.3ms\n",
      "video 1/1 (frame 265/375) C:\\Users\\biswa\\object_detection_project\\15sec_input_720p.mp4: 256x416 17 playerss, 65.8ms\n",
      "video 1/1 (frame 266/375) C:\\Users\\biswa\\object_detection_project\\15sec_input_720p.mp4: 256x416 14 playerss, 60.6ms\n",
      "video 1/1 (frame 267/375) C:\\Users\\biswa\\object_detection_project\\15sec_input_720p.mp4: 256x416 14 playerss, 66.3ms\n",
      "video 1/1 (frame 268/375) C:\\Users\\biswa\\object_detection_project\\15sec_input_720p.mp4: 256x416 12 playerss, 76.9ms\n",
      "video 1/1 (frame 269/375) C:\\Users\\biswa\\object_detection_project\\15sec_input_720p.mp4: 256x416 12 playerss, 136.3ms\n",
      "video 1/1 (frame 270/375) C:\\Users\\biswa\\object_detection_project\\15sec_input_720p.mp4: 256x416 17 playerss, 95.8ms\n",
      "video 1/1 (frame 271/375) C:\\Users\\biswa\\object_detection_project\\15sec_input_720p.mp4: 256x416 17 playerss, 59.9ms\n",
      "video 1/1 (frame 272/375) C:\\Users\\biswa\\object_detection_project\\15sec_input_720p.mp4: 256x416 13 playerss, 55.9ms\n",
      "video 1/1 (frame 273/375) C:\\Users\\biswa\\object_detection_project\\15sec_input_720p.mp4: 256x416 11 playerss, 67.3ms\n",
      "video 1/1 (frame 274/375) C:\\Users\\biswa\\object_detection_project\\15sec_input_720p.mp4: 256x416 17 playerss, 63.5ms\n",
      "video 1/1 (frame 275/375) C:\\Users\\biswa\\object_detection_project\\15sec_input_720p.mp4: 256x416 12 playerss, 75.1ms\n",
      "video 1/1 (frame 276/375) C:\\Users\\biswa\\object_detection_project\\15sec_input_720p.mp4: 256x416 13 playerss, 92.0ms\n",
      "video 1/1 (frame 277/375) C:\\Users\\biswa\\object_detection_project\\15sec_input_720p.mp4: 256x416 15 playerss, 64.5ms\n",
      "video 1/1 (frame 278/375) C:\\Users\\biswa\\object_detection_project\\15sec_input_720p.mp4: 256x416 10 playerss, 67.6ms\n",
      "video 1/1 (frame 279/375) C:\\Users\\biswa\\object_detection_project\\15sec_input_720p.mp4: 256x416 9 playerss, 132.8ms\n",
      "video 1/1 (frame 280/375) C:\\Users\\biswa\\object_detection_project\\15sec_input_720p.mp4: 256x416 11 playerss, 59.7ms\n",
      "video 1/1 (frame 281/375) C:\\Users\\biswa\\object_detection_project\\15sec_input_720p.mp4: 256x416 19 playerss, 74.3ms\n",
      "video 1/1 (frame 282/375) C:\\Users\\biswa\\object_detection_project\\15sec_input_720p.mp4: 256x416 16 playerss, 150.4ms\n",
      "video 1/1 (frame 283/375) C:\\Users\\biswa\\object_detection_project\\15sec_input_720p.mp4: 256x416 16 playerss, 79.7ms\n",
      "video 1/1 (frame 284/375) C:\\Users\\biswa\\object_detection_project\\15sec_input_720p.mp4: 256x416 15 playerss, 86.4ms\n",
      "video 1/1 (frame 285/375) C:\\Users\\biswa\\object_detection_project\\15sec_input_720p.mp4: 256x416 12 playerss, 90.9ms\n",
      "video 1/1 (frame 286/375) C:\\Users\\biswa\\object_detection_project\\15sec_input_720p.mp4: 256x416 15 playerss, 64.2ms\n",
      "video 1/1 (frame 287/375) C:\\Users\\biswa\\object_detection_project\\15sec_input_720p.mp4: 256x416 14 playerss, 55.8ms\n",
      "video 1/1 (frame 288/375) C:\\Users\\biswa\\object_detection_project\\15sec_input_720p.mp4: 256x416 15 playerss, 57.1ms\n",
      "video 1/1 (frame 289/375) C:\\Users\\biswa\\object_detection_project\\15sec_input_720p.mp4: 256x416 15 playerss, 52.6ms\n",
      "video 1/1 (frame 290/375) C:\\Users\\biswa\\object_detection_project\\15sec_input_720p.mp4: 256x416 15 playerss, 87.3ms\n",
      "video 1/1 (frame 291/375) C:\\Users\\biswa\\object_detection_project\\15sec_input_720p.mp4: 256x416 17 playerss, 70.5ms\n",
      "video 1/1 (frame 292/375) C:\\Users\\biswa\\object_detection_project\\15sec_input_720p.mp4: 256x416 17 playerss, 71.9ms\n",
      "video 1/1 (frame 293/375) C:\\Users\\biswa\\object_detection_project\\15sec_input_720p.mp4: 256x416 16 playerss, 76.3ms\n",
      "video 1/1 (frame 294/375) C:\\Users\\biswa\\object_detection_project\\15sec_input_720p.mp4: 256x416 15 playerss, 68.2ms\n",
      "video 1/1 (frame 295/375) C:\\Users\\biswa\\object_detection_project\\15sec_input_720p.mp4: 256x416 15 playerss, 72.5ms\n",
      "video 1/1 (frame 296/375) C:\\Users\\biswa\\object_detection_project\\15sec_input_720p.mp4: 256x416 12 playerss, 95.9ms\n",
      "video 1/1 (frame 297/375) C:\\Users\\biswa\\object_detection_project\\15sec_input_720p.mp4: 256x416 13 playerss, 83.7ms\n",
      "video 1/1 (frame 298/375) C:\\Users\\biswa\\object_detection_project\\15sec_input_720p.mp4: 256x416 12 playerss, 68.8ms\n",
      "video 1/1 (frame 299/375) C:\\Users\\biswa\\object_detection_project\\15sec_input_720p.mp4: 256x416 15 playerss, 66.6ms\n",
      "video 1/1 (frame 300/375) C:\\Users\\biswa\\object_detection_project\\15sec_input_720p.mp4: 256x416 13 playerss, 74.0ms\n",
      "video 1/1 (frame 301/375) C:\\Users\\biswa\\object_detection_project\\15sec_input_720p.mp4: 256x416 13 playerss, 64.5ms\n",
      "video 1/1 (frame 302/375) C:\\Users\\biswa\\object_detection_project\\15sec_input_720p.mp4: 256x416 14 playerss, 70.5ms\n",
      "video 1/1 (frame 303/375) C:\\Users\\biswa\\object_detection_project\\15sec_input_720p.mp4: 256x416 18 playerss, 70.4ms\n",
      "video 1/1 (frame 304/375) C:\\Users\\biswa\\object_detection_project\\15sec_input_720p.mp4: 256x416 21 playerss, 72.6ms\n",
      "video 1/1 (frame 305/375) C:\\Users\\biswa\\object_detection_project\\15sec_input_720p.mp4: 256x416 18 playerss, 62.5ms\n",
      "video 1/1 (frame 306/375) C:\\Users\\biswa\\object_detection_project\\15sec_input_720p.mp4: 256x416 19 playerss, 77.2ms\n",
      "video 1/1 (frame 307/375) C:\\Users\\biswa\\object_detection_project\\15sec_input_720p.mp4: 256x416 21 playerss, 67.4ms\n",
      "video 1/1 (frame 308/375) C:\\Users\\biswa\\object_detection_project\\15sec_input_720p.mp4: 256x416 15 playerss, 73.4ms\n",
      "video 1/1 (frame 309/375) C:\\Users\\biswa\\object_detection_project\\15sec_input_720p.mp4: 256x416 16 playerss, 62.6ms\n",
      "video 1/1 (frame 310/375) C:\\Users\\biswa\\object_detection_project\\15sec_input_720p.mp4: 256x416 16 playerss, 73.9ms\n",
      "video 1/1 (frame 311/375) C:\\Users\\biswa\\object_detection_project\\15sec_input_720p.mp4: 256x416 18 playerss, 78.3ms\n",
      "video 1/1 (frame 312/375) C:\\Users\\biswa\\object_detection_project\\15sec_input_720p.mp4: 256x416 19 playerss, 148.9ms\n",
      "video 1/1 (frame 313/375) C:\\Users\\biswa\\object_detection_project\\15sec_input_720p.mp4: 256x416 15 playerss, 188.1ms\n",
      "video 1/1 (frame 314/375) C:\\Users\\biswa\\object_detection_project\\15sec_input_720p.mp4: 256x416 14 playerss, 70.4ms\n",
      "video 1/1 (frame 315/375) C:\\Users\\biswa\\object_detection_project\\15sec_input_720p.mp4: 256x416 18 playerss, 63.5ms\n",
      "video 1/1 (frame 316/375) C:\\Users\\biswa\\object_detection_project\\15sec_input_720p.mp4: 256x416 15 playerss, 80.2ms\n",
      "video 1/1 (frame 317/375) C:\\Users\\biswa\\object_detection_project\\15sec_input_720p.mp4: 256x416 17 playerss, 78.2ms\n",
      "video 1/1 (frame 318/375) C:\\Users\\biswa\\object_detection_project\\15sec_input_720p.mp4: 256x416 16 playerss, 72.2ms\n",
      "video 1/1 (frame 319/375) C:\\Users\\biswa\\object_detection_project\\15sec_input_720p.mp4: 256x416 15 playerss, 61.4ms\n",
      "video 1/1 (frame 320/375) C:\\Users\\biswa\\object_detection_project\\15sec_input_720p.mp4: 256x416 16 playerss, 58.1ms\n",
      "video 1/1 (frame 321/375) C:\\Users\\biswa\\object_detection_project\\15sec_input_720p.mp4: 256x416 17 playerss, 59.4ms\n",
      "video 1/1 (frame 322/375) C:\\Users\\biswa\\object_detection_project\\15sec_input_720p.mp4: 256x416 19 playerss, 64.3ms\n",
      "video 1/1 (frame 323/375) C:\\Users\\biswa\\object_detection_project\\15sec_input_720p.mp4: 256x416 15 playerss, 60.6ms\n",
      "video 1/1 (frame 324/375) C:\\Users\\biswa\\object_detection_project\\15sec_input_720p.mp4: 256x416 17 playerss, 71.7ms\n",
      "video 1/1 (frame 325/375) C:\\Users\\biswa\\object_detection_project\\15sec_input_720p.mp4: 256x416 16 playerss, 90.8ms\n",
      "video 1/1 (frame 326/375) C:\\Users\\biswa\\object_detection_project\\15sec_input_720p.mp4: 256x416 14 playerss, 80.7ms\n",
      "video 1/1 (frame 327/375) C:\\Users\\biswa\\object_detection_project\\15sec_input_720p.mp4: 256x416 13 playerss, 71.2ms\n",
      "video 1/1 (frame 328/375) C:\\Users\\biswa\\object_detection_project\\15sec_input_720p.mp4: 256x416 13 playerss, 62.1ms\n",
      "video 1/1 (frame 329/375) C:\\Users\\biswa\\object_detection_project\\15sec_input_720p.mp4: 256x416 17 playerss, 74.9ms\n",
      "video 1/1 (frame 330/375) C:\\Users\\biswa\\object_detection_project\\15sec_input_720p.mp4: 256x416 13 playerss, 71.8ms\n",
      "video 1/1 (frame 331/375) C:\\Users\\biswa\\object_detection_project\\15sec_input_720p.mp4: 256x416 13 playerss, 78.9ms\n",
      "video 1/1 (frame 332/375) C:\\Users\\biswa\\object_detection_project\\15sec_input_720p.mp4: 256x416 13 playerss, 67.1ms\n",
      "video 1/1 (frame 333/375) C:\\Users\\biswa\\object_detection_project\\15sec_input_720p.mp4: 256x416 13 playerss, 67.2ms\n",
      "video 1/1 (frame 334/375) C:\\Users\\biswa\\object_detection_project\\15sec_input_720p.mp4: 256x416 14 playerss, 86.7ms\n",
      "video 1/1 (frame 335/375) C:\\Users\\biswa\\object_detection_project\\15sec_input_720p.mp4: 256x416 12 playerss, 81.1ms\n",
      "video 1/1 (frame 336/375) C:\\Users\\biswa\\object_detection_project\\15sec_input_720p.mp4: 256x416 11 playerss, 76.0ms\n",
      "video 1/1 (frame 337/375) C:\\Users\\biswa\\object_detection_project\\15sec_input_720p.mp4: 256x416 13 playerss, 82.3ms\n",
      "video 1/1 (frame 338/375) C:\\Users\\biswa\\object_detection_project\\15sec_input_720p.mp4: 256x416 13 playerss, 55.2ms\n",
      "video 1/1 (frame 339/375) C:\\Users\\biswa\\object_detection_project\\15sec_input_720p.mp4: 256x416 11 playerss, 85.6ms\n",
      "video 1/1 (frame 340/375) C:\\Users\\biswa\\object_detection_project\\15sec_input_720p.mp4: 256x416 12 playerss, 86.1ms\n",
      "video 1/1 (frame 341/375) C:\\Users\\biswa\\object_detection_project\\15sec_input_720p.mp4: 256x416 13 playerss, 81.4ms\n",
      "video 1/1 (frame 342/375) C:\\Users\\biswa\\object_detection_project\\15sec_input_720p.mp4: 256x416 19 playerss, 65.2ms\n",
      "video 1/1 (frame 343/375) C:\\Users\\biswa\\object_detection_project\\15sec_input_720p.mp4: 256x416 14 playerss, 76.7ms\n",
      "video 1/1 (frame 344/375) C:\\Users\\biswa\\object_detection_project\\15sec_input_720p.mp4: 256x416 10 playerss, 68.2ms\n",
      "video 1/1 (frame 345/375) C:\\Users\\biswa\\object_detection_project\\15sec_input_720p.mp4: 256x416 13 playerss, 67.7ms\n",
      "video 1/1 (frame 346/375) C:\\Users\\biswa\\object_detection_project\\15sec_input_720p.mp4: 256x416 18 playerss, 68.1ms\n",
      "video 1/1 (frame 347/375) C:\\Users\\biswa\\object_detection_project\\15sec_input_720p.mp4: 256x416 14 playerss, 68.1ms\n",
      "video 1/1 (frame 348/375) C:\\Users\\biswa\\object_detection_project\\15sec_input_720p.mp4: 256x416 18 playerss, 64.7ms\n",
      "video 1/1 (frame 349/375) C:\\Users\\biswa\\object_detection_project\\15sec_input_720p.mp4: 256x416 21 playerss, 61.6ms\n",
      "video 1/1 (frame 350/375) C:\\Users\\biswa\\object_detection_project\\15sec_input_720p.mp4: 256x416 15 playerss, 109.4ms\n",
      "video 1/1 (frame 351/375) C:\\Users\\biswa\\object_detection_project\\15sec_input_720p.mp4: 256x416 13 playerss, 127.9ms\n",
      "video 1/1 (frame 352/375) C:\\Users\\biswa\\object_detection_project\\15sec_input_720p.mp4: 256x416 20 playerss, 108.0ms\n",
      "video 1/1 (frame 353/375) C:\\Users\\biswa\\object_detection_project\\15sec_input_720p.mp4: 256x416 14 playerss, 82.6ms\n",
      "video 1/1 (frame 354/375) C:\\Users\\biswa\\object_detection_project\\15sec_input_720p.mp4: 256x416 15 playerss, 57.9ms\n",
      "video 1/1 (frame 355/375) C:\\Users\\biswa\\object_detection_project\\15sec_input_720p.mp4: 256x416 18 playerss, 64.9ms\n",
      "video 1/1 (frame 356/375) C:\\Users\\biswa\\object_detection_project\\15sec_input_720p.mp4: 256x416 19 playerss, 57.4ms\n",
      "video 1/1 (frame 357/375) C:\\Users\\biswa\\object_detection_project\\15sec_input_720p.mp4: 256x416 15 playerss, 94.7ms\n",
      "video 1/1 (frame 358/375) C:\\Users\\biswa\\object_detection_project\\15sec_input_720p.mp4: 256x416 17 playerss, 107.7ms\n",
      "video 1/1 (frame 359/375) C:\\Users\\biswa\\object_detection_project\\15sec_input_720p.mp4: 256x416 22 playerss, 69.6ms\n",
      "video 1/1 (frame 360/375) C:\\Users\\biswa\\object_detection_project\\15sec_input_720p.mp4: 256x416 19 playerss, 60.9ms\n",
      "video 1/1 (frame 361/375) C:\\Users\\biswa\\object_detection_project\\15sec_input_720p.mp4: 256x416 19 playerss, 52.5ms\n",
      "video 1/1 (frame 362/375) C:\\Users\\biswa\\object_detection_project\\15sec_input_720p.mp4: 256x416 20 playerss, 62.6ms\n",
      "video 1/1 (frame 363/375) C:\\Users\\biswa\\object_detection_project\\15sec_input_720p.mp4: 256x416 19 playerss, 75.7ms\n",
      "video 1/1 (frame 364/375) C:\\Users\\biswa\\object_detection_project\\15sec_input_720p.mp4: 256x416 15 playerss, 156.6ms\n",
      "video 1/1 (frame 365/375) C:\\Users\\biswa\\object_detection_project\\15sec_input_720p.mp4: 256x416 14 playerss, 92.2ms\n",
      "video 1/1 (frame 366/375) C:\\Users\\biswa\\object_detection_project\\15sec_input_720p.mp4: 256x416 17 playerss, 80.6ms\n",
      "video 1/1 (frame 367/375) C:\\Users\\biswa\\object_detection_project\\15sec_input_720p.mp4: 256x416 19 playerss, 75.7ms\n",
      "video 1/1 (frame 368/375) C:\\Users\\biswa\\object_detection_project\\15sec_input_720p.mp4: 256x416 17 playerss, 75.8ms\n",
      "video 1/1 (frame 369/375) C:\\Users\\biswa\\object_detection_project\\15sec_input_720p.mp4: 256x416 18 playerss, 143.5ms\n",
      "video 1/1 (frame 370/375) C:\\Users\\biswa\\object_detection_project\\15sec_input_720p.mp4: 256x416 24 playerss, 71.8ms\n",
      "video 1/1 (frame 371/375) C:\\Users\\biswa\\object_detection_project\\15sec_input_720p.mp4: 256x416 21 playerss, 59.7ms\n",
      "video 1/1 (frame 372/375) C:\\Users\\biswa\\object_detection_project\\15sec_input_720p.mp4: 256x416 (no detections), 64.3ms\n",
      "video 1/1 (frame 373/375) C:\\Users\\biswa\\object_detection_project\\15sec_input_720p.mp4: 256x416 (no detections), 56.3ms\n",
      "video 1/1 (frame 374/375) C:\\Users\\biswa\\object_detection_project\\15sec_input_720p.mp4: 256x416 (no detections), 59.5ms\n",
      "video 1/1 (frame 375/375) C:\\Users\\biswa\\object_detection_project\\15sec_input_720p.mp4: 256x416 (no detections), 134.1ms\n",
      "Speed: 1.9ms preprocess, 78.0ms inference, 1.2ms postprocess per image at shape (1, 3, 256, 416)\n",
      "Results saved to \u001b[1mC:\\Users\\biswa\\runs\\detect\\predict4\u001b[0m\n"
     ]
    }
   ],
   "source": [
    "from ultralytics import YOLO\n",
    "\n",
    "model = YOLO(\"C:/Users/biswa/runs/detect/train/weights/best.pt\")\n",
    "\n",
    "results = model.predict(\n",
    "    source=\"15sec_input_720p.mp4\",  \n",
    "    conf=0.25,\n",
    "    save=True \n",
    ")"
   ]
  },
  {
   "cell_type": "code",
   "execution_count": null,
   "id": "33cff6ad-5e68-4c34-9b78-76f9f370b55d",
   "metadata": {},
   "outputs": [],
   "source": []
  },
  {
   "cell_type": "code",
   "execution_count": null,
   "id": "f785318b-1e6e-42eb-a2dd-16ee7be7ce37",
   "metadata": {},
   "outputs": [],
   "source": []
  },
  {
   "cell_type": "code",
   "execution_count": null,
   "id": "e8f90bbf-1bac-4d83-a01c-92648e24ccc1",
   "metadata": {},
   "outputs": [],
   "source": []
  },
  {
   "cell_type": "code",
   "execution_count": 11,
   "id": "ae472365-c00a-4c99-9756-8e96a07e7176",
   "metadata": {},
   "outputs": [
    {
     "name": "stdout",
     "output_type": "stream",
     "text": [
      "loading Roboflow workspace...\n",
      "loading Roboflow project...\n"
     ]
    },
    {
     "name": "stderr",
     "output_type": "stream",
     "text": [
      "Downloading Dataset Version Zip in object_detection-2 to yolov8:: 100%|██████████| 12741/12741 [00:04<00:00, 2744.80it/s]"
     ]
    },
    {
     "name": "stdout",
     "output_type": "stream",
     "text": [
      "\n"
     ]
    },
    {
     "name": "stderr",
     "output_type": "stream",
     "text": [
      "\n",
      "Extracting Dataset Version Zip to object_detection-2 in yolov8:: 100%|██████████| 368/368 [00:00<00:00, 808.82it/s]\n"
     ]
    }
   ],
   "source": [
    "\n",
    "from roboflow import Roboflow\n",
    "rf = Roboflow(api_key=\"XB5iTjGN0bZP4b4dqoHK\")\n",
    "project = rf.workspace(\"biswajitplayeriddetection\").project(\"object_detection-g8zak\")\n",
    "version = project.version(2)\n",
    "dataset = version.download(\"yolov8\")\n",
    "                "
   ]
  },
  {
   "cell_type": "code",
   "execution_count": 12,
   "id": "a900e667-4d1d-4b46-920b-130289edf63c",
   "metadata": {},
   "outputs": [
    {
     "name": "stdout",
     "output_type": "stream",
     "text": [
      "New https://pypi.org/project/ultralytics/8.3.161 available  Update with 'pip install -U ultralytics'\n",
      "Ultralytics 8.3.158  Python-3.12.7 torch-2.7.1+cpu CPU (12th Gen Intel Core(TM) i5-1235U)\n",
      "\u001b[34m\u001b[1mengine\\trainer: \u001b[0magnostic_nms=False, amp=True, augment=False, auto_augment=randaugment, batch=4, bgr=0.0, box=7.5, cache=False, cfg=None, classes=None, close_mosaic=10, cls=0.5, conf=None, copy_paste=0.0, copy_paste_mode=flip, cos_lr=False, cutmix=0.0, data=object_detection-2/data.yaml, degrees=0.0, deterministic=True, device=cpu, dfl=1.5, dnn=False, dropout=0.0, dynamic=False, embed=None, epochs=20, erasing=0.4, exist_ok=False, fliplr=0.5, flipud=0.0, format=torchscript, fraction=1.0, freeze=None, half=False, hsv_h=0.015, hsv_s=0.7, hsv_v=0.4, imgsz=416, int8=False, iou=0.7, keras=False, kobj=1.0, line_width=None, lr0=0.01, lrf=0.01, mask_ratio=4, max_det=300, mixup=0.0, mode=train, model=yolov8n.pt, momentum=0.937, mosaic=1.0, multi_scale=False, name=train2, nbs=64, nms=False, opset=None, optimize=False, optimizer=auto, overlap_mask=True, patience=100, perspective=0.0, plots=True, pose=12.0, pretrained=True, profile=False, project=None, rect=False, resume=False, retina_masks=False, save=True, save_conf=False, save_crop=False, save_dir=C:\\Users\\biswa\\runs\\detect\\train2, save_frames=False, save_json=False, save_period=-1, save_txt=False, scale=0.5, seed=0, shear=0.0, show=False, show_boxes=True, show_conf=True, show_labels=True, simplify=True, single_cls=False, source=None, split=val, stream_buffer=False, task=detect, time=None, tracker=botsort.yaml, translate=0.1, val=True, verbose=True, vid_stride=1, visualize=False, warmup_bias_lr=0.1, warmup_epochs=3.0, warmup_momentum=0.8, weight_decay=0.0005, workers=0, workspace=None\n",
      "Overriding model.yaml nc=80 with nc=4\n",
      "\n",
      "                   from  n    params  module                                       arguments                     \n",
      "  0                  -1  1       464  ultralytics.nn.modules.conv.Conv             [3, 16, 3, 2]                 \n",
      "  1                  -1  1      4672  ultralytics.nn.modules.conv.Conv             [16, 32, 3, 2]                \n",
      "  2                  -1  1      7360  ultralytics.nn.modules.block.C2f             [32, 32, 1, True]             \n",
      "  3                  -1  1     18560  ultralytics.nn.modules.conv.Conv             [32, 64, 3, 2]                \n",
      "  4                  -1  2     49664  ultralytics.nn.modules.block.C2f             [64, 64, 2, True]             \n",
      "  5                  -1  1     73984  ultralytics.nn.modules.conv.Conv             [64, 128, 3, 2]               \n",
      "  6                  -1  2    197632  ultralytics.nn.modules.block.C2f             [128, 128, 2, True]           \n",
      "  7                  -1  1    295424  ultralytics.nn.modules.conv.Conv             [128, 256, 3, 2]              \n",
      "  8                  -1  1    460288  ultralytics.nn.modules.block.C2f             [256, 256, 1, True]           \n",
      "  9                  -1  1    164608  ultralytics.nn.modules.block.SPPF            [256, 256, 5]                 \n",
      " 10                  -1  1         0  torch.nn.modules.upsampling.Upsample         [None, 2, 'nearest']          \n",
      " 11             [-1, 6]  1         0  ultralytics.nn.modules.conv.Concat           [1]                           \n",
      " 12                  -1  1    148224  ultralytics.nn.modules.block.C2f             [384, 128, 1]                 \n",
      " 13                  -1  1         0  torch.nn.modules.upsampling.Upsample         [None, 2, 'nearest']          \n",
      " 14             [-1, 4]  1         0  ultralytics.nn.modules.conv.Concat           [1]                           \n",
      " 15                  -1  1     37248  ultralytics.nn.modules.block.C2f             [192, 64, 1]                  \n",
      " 16                  -1  1     36992  ultralytics.nn.modules.conv.Conv             [64, 64, 3, 2]                \n",
      " 17            [-1, 12]  1         0  ultralytics.nn.modules.conv.Concat           [1]                           \n",
      " 18                  -1  1    123648  ultralytics.nn.modules.block.C2f             [192, 128, 1]                 \n",
      " 19                  -1  1    147712  ultralytics.nn.modules.conv.Conv             [128, 128, 3, 2]              \n",
      " 20             [-1, 9]  1         0  ultralytics.nn.modules.conv.Concat           [1]                           \n",
      " 21                  -1  1    493056  ultralytics.nn.modules.block.C2f             [384, 256, 1]                 \n",
      " 22        [15, 18, 21]  1    752092  ultralytics.nn.modules.head.Detect           [4, [64, 128, 256]]           \n",
      "Model summary: 129 layers, 3,011,628 parameters, 3,011,612 gradients, 8.2 GFLOPs\n",
      "\n",
      "Transferred 319/355 items from pretrained weights\n",
      "Freezing layer 'model.22.dfl.conv.weight'\n",
      "\u001b[34m\u001b[1mtrain: \u001b[0mFast image access  (ping: 0.10.0 ms, read: 6.11.8 MB/s, size: 66.4 KB)\n"
     ]
    },
    {
     "name": "stderr",
     "output_type": "stream",
     "text": [
      "\u001b[34m\u001b[1mtrain: \u001b[0mScanning C:\\Users\\biswa\\object_detection_project\\object_detection-2\\train\\labels... 153 images, 0 backgrounds, 0 corrupt: 100%|██████████| 153/153 [00:00<00:00, 260.54it/s]\n"
     ]
    },
    {
     "name": "stdout",
     "output_type": "stream",
     "text": [
      "\u001b[34m\u001b[1mtrain: \u001b[0mNew cache created: C:\\Users\\biswa\\object_detection_project\\object_detection-2\\train\\labels.cache\n"
     ]
    },
    {
     "name": "stderr",
     "output_type": "stream",
     "text": [
      "'pin_memory' argument is set as true but no accelerator is found, then device pinned memory won't be used.\n"
     ]
    },
    {
     "name": "stdout",
     "output_type": "stream",
     "text": [
      "\u001b[34m\u001b[1mval: \u001b[0mFast image access  (ping: 0.10.0 ms, read: 4.40.8 MB/s, size: 79.4 KB)\n"
     ]
    },
    {
     "name": "stderr",
     "output_type": "stream",
     "text": [
      "\u001b[34m\u001b[1mval: \u001b[0mScanning C:\\Users\\biswa\\object_detection_project\\object_detection-2\\valid\\labels... 15 images, 0 backgrounds, 0 corrupt: 100%|██████████| 15/15 [00:00<00:00, 439.11it/s]"
     ]
    },
    {
     "name": "stdout",
     "output_type": "stream",
     "text": [
      "\u001b[34m\u001b[1mval: \u001b[0mNew cache created: C:\\Users\\biswa\\object_detection_project\\object_detection-2\\valid\\labels.cache\n"
     ]
    },
    {
     "name": "stderr",
     "output_type": "stream",
     "text": [
      "\n",
      "'pin_memory' argument is set as true but no accelerator is found, then device pinned memory won't be used.\n"
     ]
    },
    {
     "name": "stdout",
     "output_type": "stream",
     "text": [
      "Plotting labels to C:\\Users\\biswa\\runs\\detect\\train2\\labels.jpg... \n",
      "\u001b[34m\u001b[1moptimizer:\u001b[0m 'optimizer=auto' found, ignoring 'lr0=0.01' and 'momentum=0.937' and determining best 'optimizer', 'lr0' and 'momentum' automatically... \n",
      "\u001b[34m\u001b[1moptimizer:\u001b[0m AdamW(lr=0.00125, momentum=0.9) with parameter groups 57 weight(decay=0.0), 64 weight(decay=0.0005), 63 bias(decay=0.0)\n",
      "Image sizes 416 train, 416 val\n",
      "Using 0 dataloader workers\n",
      "Logging results to \u001b[1mC:\\Users\\biswa\\runs\\detect\\train2\u001b[0m\n",
      "Starting training for 20 epochs...\n",
      "\n",
      "      Epoch    GPU_mem   box_loss   cls_loss   dfl_loss  Instances       Size\n"
     ]
    },
    {
     "name": "stderr",
     "output_type": "stream",
     "text": [
      "       1/20         0G      2.195      3.389       1.33         59        416: 100%|██████████| 39/39 [00:40<00:00,  1.03s/it]\n",
      "                 Class     Images  Instances      Box(P          R      mAP50  mAP50-95): 100%|██████████| 2/2 [00:01<00:00,  1.47it/s]"
     ]
    },
    {
     "name": "stdout",
     "output_type": "stream",
     "text": [
      "                   all         15        171     0.0279      0.296      0.275      0.114\n"
     ]
    },
    {
     "name": "stderr",
     "output_type": "stream",
     "text": [
      "\n"
     ]
    },
    {
     "name": "stdout",
     "output_type": "stream",
     "text": [
      "\n",
      "      Epoch    GPU_mem   box_loss   cls_loss   dfl_loss  Instances       Size\n"
     ]
    },
    {
     "name": "stderr",
     "output_type": "stream",
     "text": [
      "       2/20         0G      2.019      1.818      1.196          8        416: 100%|██████████| 39/39 [00:54<00:00,  1.38s/it]\n",
      "                 Class     Images  Instances      Box(P          R      mAP50  mAP50-95): 100%|██████████| 2/2 [00:02<00:00,  1.08s/it]"
     ]
    },
    {
     "name": "stdout",
     "output_type": "stream",
     "text": [
      "                   all         15        171      0.839      0.236      0.195     0.0644\n"
     ]
    },
    {
     "name": "stderr",
     "output_type": "stream",
     "text": [
      "\n"
     ]
    },
    {
     "name": "stdout",
     "output_type": "stream",
     "text": [
      "\n",
      "      Epoch    GPU_mem   box_loss   cls_loss   dfl_loss  Instances       Size\n"
     ]
    },
    {
     "name": "stderr",
     "output_type": "stream",
     "text": [
      "       3/20         0G       1.91      1.621      1.184          5        416: 100%|██████████| 39/39 [01:17<00:00,  1.98s/it]\n",
      "                 Class     Images  Instances      Box(P          R      mAP50  mAP50-95): 100%|██████████| 2/2 [00:01<00:00,  1.03it/s]"
     ]
    },
    {
     "name": "stdout",
     "output_type": "stream",
     "text": [
      "                   all         15        171      0.856      0.241      0.201     0.0869\n"
     ]
    },
    {
     "name": "stderr",
     "output_type": "stream",
     "text": [
      "\n"
     ]
    },
    {
     "name": "stdout",
     "output_type": "stream",
     "text": [
      "\n",
      "      Epoch    GPU_mem   box_loss   cls_loss   dfl_loss  Instances       Size\n"
     ]
    },
    {
     "name": "stderr",
     "output_type": "stream",
     "text": [
      "       4/20         0G      1.781       1.37      1.164         16        416: 100%|██████████| 39/39 [01:23<00:00,  2.13s/it]\n",
      "                 Class     Images  Instances      Box(P          R      mAP50  mAP50-95): 100%|██████████| 2/2 [00:02<00:00,  1.12s/it]"
     ]
    },
    {
     "name": "stdout",
     "output_type": "stream",
     "text": [
      "                   all         15        171      0.857      0.248      0.232     0.0936\n"
     ]
    },
    {
     "name": "stderr",
     "output_type": "stream",
     "text": [
      "\n"
     ]
    },
    {
     "name": "stdout",
     "output_type": "stream",
     "text": [
      "\n",
      "      Epoch    GPU_mem   box_loss   cls_loss   dfl_loss  Instances       Size\n"
     ]
    },
    {
     "name": "stderr",
     "output_type": "stream",
     "text": [
      "       5/20         0G        1.8      1.361      1.138         10        416: 100%|██████████| 39/39 [01:18<00:00,  2.02s/it]\n",
      "                 Class     Images  Instances      Box(P          R      mAP50  mAP50-95): 100%|██████████| 2/2 [00:02<00:00,  1.29s/it]"
     ]
    },
    {
     "name": "stdout",
     "output_type": "stream",
     "text": [
      "                   all         15        171       0.82       0.19      0.155     0.0577\n"
     ]
    },
    {
     "name": "stderr",
     "output_type": "stream",
     "text": [
      "\n"
     ]
    },
    {
     "name": "stdout",
     "output_type": "stream",
     "text": [
      "\n",
      "      Epoch    GPU_mem   box_loss   cls_loss   dfl_loss  Instances       Size\n"
     ]
    },
    {
     "name": "stderr",
     "output_type": "stream",
     "text": [
      "       6/20         0G      1.724      1.278      1.117         17        416: 100%|██████████| 39/39 [01:27<00:00,  2.24s/it]\n",
      "                 Class     Images  Instances      Box(P          R      mAP50  mAP50-95): 100%|██████████| 2/2 [00:02<00:00,  1.24s/it]"
     ]
    },
    {
     "name": "stdout",
     "output_type": "stream",
     "text": [
      "                   all         15        171      0.931      0.249       0.29      0.118\n"
     ]
    },
    {
     "name": "stderr",
     "output_type": "stream",
     "text": [
      "\n"
     ]
    },
    {
     "name": "stdout",
     "output_type": "stream",
     "text": [
      "\n",
      "      Epoch    GPU_mem   box_loss   cls_loss   dfl_loss  Instances       Size\n"
     ]
    },
    {
     "name": "stderr",
     "output_type": "stream",
     "text": [
      "       7/20         0G      1.754      1.264      1.122         14        416: 100%|██████████| 39/39 [01:26<00:00,  2.21s/it]\n",
      "                 Class     Images  Instances      Box(P          R      mAP50  mAP50-95): 100%|██████████| 2/2 [00:02<00:00,  1.32s/it]"
     ]
    },
    {
     "name": "stdout",
     "output_type": "stream",
     "text": [
      "                   all         15        171      0.944      0.255      0.299      0.139\n"
     ]
    },
    {
     "name": "stderr",
     "output_type": "stream",
     "text": [
      "\n"
     ]
    },
    {
     "name": "stdout",
     "output_type": "stream",
     "text": [
      "\n",
      "      Epoch    GPU_mem   box_loss   cls_loss   dfl_loss  Instances       Size\n"
     ]
    },
    {
     "name": "stderr",
     "output_type": "stream",
     "text": [
      "       8/20         0G      1.685      1.214      1.108         15        416: 100%|██████████| 39/39 [01:24<00:00,  2.16s/it]\n",
      "                 Class     Images  Instances      Box(P          R      mAP50  mAP50-95): 100%|██████████| 2/2 [00:02<00:00,  1.11s/it]"
     ]
    },
    {
     "name": "stdout",
     "output_type": "stream",
     "text": [
      "                   all         15        171      0.941      0.243      0.297      0.132\n"
     ]
    },
    {
     "name": "stderr",
     "output_type": "stream",
     "text": [
      "\n"
     ]
    },
    {
     "name": "stdout",
     "output_type": "stream",
     "text": [
      "\n",
      "      Epoch    GPU_mem   box_loss   cls_loss   dfl_loss  Instances       Size\n"
     ]
    },
    {
     "name": "stderr",
     "output_type": "stream",
     "text": [
      "       9/20         0G      1.651      1.232      1.112         10        416: 100%|██████████| 39/39 [01:28<00:00,  2.26s/it]\n",
      "                 Class     Images  Instances      Box(P          R      mAP50  mAP50-95): 100%|██████████| 2/2 [00:01<00:00,  1.04it/s]"
     ]
    },
    {
     "name": "stdout",
     "output_type": "stream",
     "text": [
      "                   all         15        171      0.958      0.259        0.3      0.148\n"
     ]
    },
    {
     "name": "stderr",
     "output_type": "stream",
     "text": [
      "\n"
     ]
    },
    {
     "name": "stdout",
     "output_type": "stream",
     "text": [
      "\n",
      "      Epoch    GPU_mem   box_loss   cls_loss   dfl_loss  Instances       Size\n"
     ]
    },
    {
     "name": "stderr",
     "output_type": "stream",
     "text": [
      "      10/20         0G      1.659      1.172      1.089         31        416: 100%|██████████| 39/39 [01:30<00:00,  2.33s/it]\n",
      "                 Class     Images  Instances      Box(P          R      mAP50  mAP50-95): 100%|██████████| 2/2 [00:02<00:00,  1.23s/it]"
     ]
    },
    {
     "name": "stdout",
     "output_type": "stream",
     "text": [
      "                   all         15        171      0.955      0.255      0.293      0.139\n"
     ]
    },
    {
     "name": "stderr",
     "output_type": "stream",
     "text": [
      "\n"
     ]
    },
    {
     "name": "stdout",
     "output_type": "stream",
     "text": [
      "Closing dataloader mosaic\n",
      "\n",
      "      Epoch    GPU_mem   box_loss   cls_loss   dfl_loss  Instances       Size\n"
     ]
    },
    {
     "name": "stderr",
     "output_type": "stream",
     "text": [
      "'pin_memory' argument is set as true but no accelerator is found, then device pinned memory won't be used.\n",
      "      11/20         0G      1.635      1.194      1.123         12        416: 100%|██████████| 39/39 [01:33<00:00,  2.41s/it]\n",
      "                 Class     Images  Instances      Box(P          R      mAP50  mAP50-95): 100%|██████████| 2/2 [00:02<00:00,  1.19s/it]"
     ]
    },
    {
     "name": "stdout",
     "output_type": "stream",
     "text": [
      "                   all         15        171      0.604      0.258      0.273      0.135\n"
     ]
    },
    {
     "name": "stderr",
     "output_type": "stream",
     "text": [
      "\n"
     ]
    },
    {
     "name": "stdout",
     "output_type": "stream",
     "text": [
      "\n",
      "      Epoch    GPU_mem   box_loss   cls_loss   dfl_loss  Instances       Size\n"
     ]
    },
    {
     "name": "stderr",
     "output_type": "stream",
     "text": [
      "      12/20         0G      1.601      1.186      1.105         18        416: 100%|██████████| 39/39 [01:36<00:00,  2.47s/it]\n",
      "                 Class     Images  Instances      Box(P          R      mAP50  mAP50-95): 100%|██████████| 2/2 [00:02<00:00,  1.23s/it]"
     ]
    },
    {
     "name": "stdout",
     "output_type": "stream",
     "text": [
      "                   all         15        171      0.641      0.255      0.292      0.148\n"
     ]
    },
    {
     "name": "stderr",
     "output_type": "stream",
     "text": [
      "\n"
     ]
    },
    {
     "name": "stdout",
     "output_type": "stream",
     "text": [
      "\n",
      "      Epoch    GPU_mem   box_loss   cls_loss   dfl_loss  Instances       Size\n"
     ]
    },
    {
     "name": "stderr",
     "output_type": "stream",
     "text": [
      "      13/20         0G       1.56      1.145      1.096         12        416: 100%|██████████| 39/39 [01:40<00:00,  2.59s/it]\n",
      "                 Class     Images  Instances      Box(P          R      mAP50  mAP50-95): 100%|██████████| 2/2 [00:02<00:00,  1.20s/it]"
     ]
    },
    {
     "name": "stdout",
     "output_type": "stream",
     "text": [
      "                   all         15        171      0.642      0.258      0.311      0.165\n"
     ]
    },
    {
     "name": "stderr",
     "output_type": "stream",
     "text": [
      "\n"
     ]
    },
    {
     "name": "stdout",
     "output_type": "stream",
     "text": [
      "\n",
      "      Epoch    GPU_mem   box_loss   cls_loss   dfl_loss  Instances       Size\n"
     ]
    },
    {
     "name": "stderr",
     "output_type": "stream",
     "text": [
      "      14/20         0G      1.586      1.158      1.085          9        416: 100%|██████████| 39/39 [01:36<00:00,  2.48s/it]\n",
      "                 Class     Images  Instances      Box(P          R      mAP50  mAP50-95): 100%|██████████| 2/2 [00:02<00:00,  1.32s/it]"
     ]
    },
    {
     "name": "stdout",
     "output_type": "stream",
     "text": [
      "                   all         15        171      0.953      0.268        0.3      0.155\n"
     ]
    },
    {
     "name": "stderr",
     "output_type": "stream",
     "text": [
      "\n"
     ]
    },
    {
     "name": "stdout",
     "output_type": "stream",
     "text": [
      "\n",
      "      Epoch    GPU_mem   box_loss   cls_loss   dfl_loss  Instances       Size\n"
     ]
    },
    {
     "name": "stderr",
     "output_type": "stream",
     "text": [
      "      15/20         0G      1.535      1.146      1.088         14        416: 100%|██████████| 39/39 [01:36<00:00,  2.46s/it]\n",
      "                 Class     Images  Instances      Box(P          R      mAP50  mAP50-95): 100%|██████████| 2/2 [00:02<00:00,  1.26s/it]"
     ]
    },
    {
     "name": "stdout",
     "output_type": "stream",
     "text": [
      "                   all         15        171      0.949      0.267      0.303      0.158\n"
     ]
    },
    {
     "name": "stderr",
     "output_type": "stream",
     "text": [
      "\n"
     ]
    },
    {
     "name": "stdout",
     "output_type": "stream",
     "text": [
      "\n",
      "      Epoch    GPU_mem   box_loss   cls_loss   dfl_loss  Instances       Size\n"
     ]
    },
    {
     "name": "stderr",
     "output_type": "stream",
     "text": [
      "      16/20         0G      1.537      1.132      1.078         17        416: 100%|██████████| 39/39 [01:36<00:00,  2.47s/it]\n",
      "                 Class     Images  Instances      Box(P          R      mAP50  mAP50-95): 100%|██████████| 2/2 [00:02<00:00,  1.26s/it]"
     ]
    },
    {
     "name": "stdout",
     "output_type": "stream",
     "text": [
      "                   all         15        171       0.98      0.271      0.316      0.163\n"
     ]
    },
    {
     "name": "stderr",
     "output_type": "stream",
     "text": [
      "\n"
     ]
    },
    {
     "name": "stdout",
     "output_type": "stream",
     "text": [
      "\n",
      "      Epoch    GPU_mem   box_loss   cls_loss   dfl_loss  Instances       Size\n"
     ]
    },
    {
     "name": "stderr",
     "output_type": "stream",
     "text": [
      "      17/20         0G      1.486       1.11      1.092         15        416: 100%|██████████| 39/39 [01:27<00:00,  2.25s/it]\n",
      "                 Class     Images  Instances      Box(P          R      mAP50  mAP50-95): 100%|██████████| 2/2 [00:01<00:00,  1.26it/s]"
     ]
    },
    {
     "name": "stdout",
     "output_type": "stream",
     "text": [
      "                   all         15        171      0.973      0.269      0.313       0.16\n"
     ]
    },
    {
     "name": "stderr",
     "output_type": "stream",
     "text": [
      "\n"
     ]
    },
    {
     "name": "stdout",
     "output_type": "stream",
     "text": [
      "\n",
      "      Epoch    GPU_mem   box_loss   cls_loss   dfl_loss  Instances       Size\n"
     ]
    },
    {
     "name": "stderr",
     "output_type": "stream",
     "text": [
      "      18/20         0G      1.501      1.089      1.086         13        416: 100%|██████████| 39/39 [00:45<00:00,  1.17s/it]\n",
      "                 Class     Images  Instances      Box(P          R      mAP50  mAP50-95): 100%|██████████| 2/2 [00:01<00:00,  1.33it/s]"
     ]
    },
    {
     "name": "stdout",
     "output_type": "stream",
     "text": [
      "                   all         15        171      0.622      0.269      0.296      0.152\n"
     ]
    },
    {
     "name": "stderr",
     "output_type": "stream",
     "text": [
      "\n"
     ]
    },
    {
     "name": "stdout",
     "output_type": "stream",
     "text": [
      "\n",
      "      Epoch    GPU_mem   box_loss   cls_loss   dfl_loss  Instances       Size\n"
     ]
    },
    {
     "name": "stderr",
     "output_type": "stream",
     "text": [
      "      19/20         0G      1.505      1.082      1.068         13        416: 100%|██████████| 39/39 [00:45<00:00,  1.16s/it]\n",
      "                 Class     Images  Instances      Box(P          R      mAP50  mAP50-95): 100%|██████████| 2/2 [00:01<00:00,  1.24it/s]"
     ]
    },
    {
     "name": "stdout",
     "output_type": "stream",
     "text": [
      "                   all         15        171       0.62      0.273        0.3      0.155\n"
     ]
    },
    {
     "name": "stderr",
     "output_type": "stream",
     "text": [
      "\n"
     ]
    },
    {
     "name": "stdout",
     "output_type": "stream",
     "text": [
      "\n",
      "      Epoch    GPU_mem   box_loss   cls_loss   dfl_loss  Instances       Size\n"
     ]
    },
    {
     "name": "stderr",
     "output_type": "stream",
     "text": [
      "      20/20         0G      1.522      1.093      1.085         16        416: 100%|██████████| 39/39 [00:49<00:00,  1.26s/it]\n",
      "                 Class     Images  Instances      Box(P          R      mAP50  mAP50-95): 100%|██████████| 2/2 [00:01<00:00,  1.07it/s]"
     ]
    },
    {
     "name": "stdout",
     "output_type": "stream",
     "text": [
      "                   all         15        171      0.626      0.278      0.301      0.157\n"
     ]
    },
    {
     "name": "stderr",
     "output_type": "stream",
     "text": [
      "\n"
     ]
    },
    {
     "name": "stdout",
     "output_type": "stream",
     "text": [
      "\n",
      "20 epochs completed in 0.454 hours.\n",
      "Optimizer stripped from C:\\Users\\biswa\\runs\\detect\\train2\\weights\\last.pt, 6.2MB\n",
      "Optimizer stripped from C:\\Users\\biswa\\runs\\detect\\train2\\weights\\best.pt, 6.2MB\n",
      "\n",
      "Validating C:\\Users\\biswa\\runs\\detect\\train2\\weights\\best.pt...\n",
      "Ultralytics 8.3.158  Python-3.12.7 torch-2.7.1+cpu CPU (12th Gen Intel Core(TM) i5-1235U)\n",
      "Model summary (fused): 72 layers, 3,006,428 parameters, 0 gradients, 8.1 GFLOPs\n"
     ]
    },
    {
     "name": "stderr",
     "output_type": "stream",
     "text": [
      "                 Class     Images  Instances      Box(P          R      mAP50  mAP50-95): 100%|██████████| 2/2 [00:01<00:00,  1.17it/s]\n"
     ]
    },
    {
     "name": "stdout",
     "output_type": "stream",
     "text": [
      "                   all         15        171      0.642      0.258      0.311      0.165\n",
      "                  ball         13         13          0          0          0          0\n",
      "           goal_keeper         14         14          1          0     0.0666     0.0442\n",
      "               players         15        144      0.925      0.774      0.868      0.452\n",
      "Speed: 0.8ms preprocess, 76.6ms inference, 0.0ms loss, 10.6ms postprocess per image\n",
      "Results saved to \u001b[1mC:\\Users\\biswa\\runs\\detect\\train2\u001b[0m\n"
     ]
    }
   ],
   "source": [
    "model = YOLO(\"yolov8n.pt\") \n",
    "results = model.train(\n",
    "    data=\"object_detection-2/data.yaml\",  \n",
    "    epochs=20,              \n",
    "    imgsz=416,              \n",
    "    batch=4,                \n",
    "    workers=0,              \n",
    "    device=\"cpu\"            \n",
    ")"
   ]
  },
  {
   "cell_type": "code",
   "execution_count": 13,
   "id": "73d63ac6-8d93-4c85-b01e-724ae6c0ded4",
   "metadata": {},
   "outputs": [
    {
     "name": "stdout",
     "output_type": "stream",
     "text": [
      "Collecting filterpy\n",
      "  Downloading filterpy-1.4.5.zip (177 kB)\n",
      "  Preparing metadata (setup.py): started\n",
      "  Preparing metadata (setup.py): finished with status 'done'\n",
      "Requirement already satisfied: numpy in c:\\users\\biswa\\anaconda3\\lib\\site-packages (from filterpy) (1.26.4)\n",
      "Requirement already satisfied: scipy in c:\\users\\biswa\\anaconda3\\lib\\site-packages (from filterpy) (1.13.1)\n",
      "Requirement already satisfied: matplotlib in c:\\users\\biswa\\anaconda3\\lib\\site-packages (from filterpy) (3.9.2)\n",
      "Requirement already satisfied: contourpy>=1.0.1 in c:\\users\\biswa\\anaconda3\\lib\\site-packages (from matplotlib->filterpy) (1.2.0)\n",
      "Requirement already satisfied: cycler>=0.10 in c:\\users\\biswa\\anaconda3\\lib\\site-packages (from matplotlib->filterpy) (0.11.0)\n",
      "Requirement already satisfied: fonttools>=4.22.0 in c:\\users\\biswa\\anaconda3\\lib\\site-packages (from matplotlib->filterpy) (4.51.0)\n",
      "Requirement already satisfied: kiwisolver>=1.3.1 in c:\\users\\biswa\\anaconda3\\lib\\site-packages (from matplotlib->filterpy) (1.4.4)\n",
      "Requirement already satisfied: packaging>=20.0 in c:\\users\\biswa\\anaconda3\\lib\\site-packages (from matplotlib->filterpy) (24.1)\n",
      "Requirement already satisfied: pillow>=8 in c:\\users\\biswa\\anaconda3\\lib\\site-packages (from matplotlib->filterpy) (10.4.0)\n",
      "Requirement already satisfied: pyparsing>=2.3.1 in c:\\users\\biswa\\anaconda3\\lib\\site-packages (from matplotlib->filterpy) (3.1.2)\n",
      "Requirement already satisfied: python-dateutil>=2.7 in c:\\users\\biswa\\anaconda3\\lib\\site-packages (from matplotlib->filterpy) (2.9.0.post0)\n",
      "Requirement already satisfied: six>=1.5 in c:\\users\\biswa\\anaconda3\\lib\\site-packages (from python-dateutil>=2.7->matplotlib->filterpy) (1.16.0)\n",
      "Building wheels for collected packages: filterpy\n",
      "  Building wheel for filterpy (setup.py): started\n",
      "  Building wheel for filterpy (setup.py): finished with status 'done'\n",
      "  Created wheel for filterpy: filename=filterpy-1.4.5-py3-none-any.whl size=110541 sha256=3368634ae8ed70ebc72e7859131a6412b9d07432816bae48ecd33e158468fa91\n",
      "  Stored in directory: c:\\users\\biswa\\appdata\\local\\pip\\cache\\wheels\\77\\bf\\4c\\b0c3f4798a0166668752312a67118b27a3cd341e13ac0ae6ee\n",
      "Successfully built filterpy\n",
      "Installing collected packages: filterpy\n",
      "Successfully installed filterpy-1.4.5\n"
     ]
    }
   ],
   "source": [
    "!pip install filterpy"
   ]
  },
  {
   "cell_type": "code",
   "execution_count": null,
   "id": "7ef60bac-19dc-4d43-96f7-399f79295938",
   "metadata": {},
   "outputs": [],
   "source": []
  },
  {
   "cell_type": "code",
   "execution_count": 5,
   "id": "e8ac80b9-4b84-447c-94f6-e7412bdde080",
   "metadata": {},
   "outputs": [
    {
     "name": "stdout",
     "output_type": "stream",
     "text": [
      "Processing frame...\n",
      "Processing complete. Output saved to output_with_tracking.mp4\n"
     ]
    }
   ],
   "source": [
    "# Assistant\n",
    "import cv2\n",
    "import numpy as np\n",
    "from ultralytics import YOLO\n",
    "from collections import defaultdict\n",
    "\n",
    "# Load trained YOLOv8 model\n",
    "model = YOLO(\"C:/Users/biswa/runs/detect/train2/weights/best.pt\")\n",
    "\n",
    "# Set up video input/output\n",
    "video_path = \"15sec_input_720p.mp4\"  \n",
    "cap = cv2.VideoCapture(video_path)\n",
    "\n",
    "# Set up video writer instead of display\n",
    "# Get video properties for the output file\n",
    "width = int(cap.get(cv2.CAP_PROP_FRAME_WIDTH))\n",
    "height = int(cap.get(cv2.CAP_PROP_FRAME_HEIGHT))\n",
    "fps = cap.get(cv2.CAP_PROP_FPS)\n",
    "fourcc = cv2.VideoWriter_fourcc(*'mp4v')  # or 'XVID'\n",
    "output_path = \"output_with_tracking.mp4\"\n",
    "out = cv2.VideoWriter(output_path, fourcc, fps, (width, height))\n",
    "\n",
    "# Tracker: just assigning IDs based on proximity (simplified)\n",
    "next_id = 0\n",
    "object_id_map = {}  # (x, y) → id\n",
    "\n",
    "def get_centroid(box):\n",
    "    x1, y1, x2, y2 = box\n",
    "    return int((x1 + x2) / 2), int((y1 + y2) / 2)\n",
    "\n",
    "def assign_id(centroid, threshold=50):\n",
    "    global next_id\n",
    "    for prev_centroid, obj_id in object_id_map.items():\n",
    "        dist = np.linalg.norm(np.array(prev_centroid) - np.array(centroid))\n",
    "        if dist < threshold:\n",
    "            object_id_map[centroid] = obj_id\n",
    "            return obj_id\n",
    "    object_id_map[centroid] = next_id\n",
    "    next_id += 1\n",
    "    return object_id_map[centroid]\n",
    "\n",
    "# Start reading video\n",
    "while True:\n",
    "    ret, frame = cap.read()\n",
    "    if not ret:\n",
    "        break\n",
    "\n",
    "    results = model.predict(frame, conf=0.3, verbose=False)\n",
    "    annotated_frame = frame.copy()\n",
    "\n",
    "    for result in results:\n",
    "        for box in result.boxes:\n",
    "            cls_id = int(box.cls[0])\n",
    "            label = model.names[cls_id]\n",
    "            x1, y1, x2, y2 = map(int, box.xyxy[0])\n",
    "            centroid = get_centroid([x1, y1, x2, y2])\n",
    "            obj_id = assign_id(centroid)\n",
    "\n",
    "            # Draw bounding box\n",
    "            cv2.rectangle(annotated_frame, (x1, y1), (x2, y2), (0, 255, 0), 2)\n",
    "            \n",
    "            # Show label as ID (e.g. player_3)\n",
    "            cv2.putText(\n",
    "                annotated_frame,\n",
    "                f\"{label}_{obj_id}\",\n",
    "                (x1, y1 - 10),\n",
    "                cv2.FONT_HERSHEY_SIMPLEX,\n",
    "                0.6,\n",
    "                (255, 0, 0),\n",
    "                2\n",
    "            )\n",
    "\n",
    "    # Write frame to output video instead of displaying it\n",
    "    out.write(annotated_frame)\n",
    "    \n",
    "    # Optional: Print progress\n",
    "    print(f\"Processing frame...\", end=\"\\r\")\n",
    "\n",
    "# Release resources\n",
    "cap.release()\n",
    "out.release()\n",
    "print(f\"\\nProcessing complete. Output saved to {output_path}\")\n",
    "# Removed cv2.destroyAllWindows() as we're not using GUI windows"
   ]
  },
  {
   "cell_type": "code",
   "execution_count": 7,
   "id": "02f328db-362c-4483-a86b-706d7d1e4dcb",
   "metadata": {},
   "outputs": [
    {
     "name": "stdout",
     "output_type": "stream",
     "text": [
      "Processing frame 10\n",
      "Processing frame 20\n",
      "Processing frame 30\n",
      "Processing frame 40\n",
      "Processing frame 50\n",
      "Processing frame 60\n",
      "Processing frame 70\n",
      "Processing frame 80\n",
      "Processing frame 90\n",
      "Processing frame 100\n",
      "Processing frame 110\n",
      "Processing frame 120\n",
      "Processing frame 130\n",
      "Processing frame 140\n",
      "Processing frame 150\n",
      "Processing frame 160\n",
      "Processing frame 170\n",
      "Processing frame 180\n",
      "Processing frame 190\n",
      "Processing frame 200\n",
      "Processing frame 210\n",
      "Processing frame 220\n",
      "Processing frame 230\n",
      "Processing frame 240\n",
      "Processing frame 250\n",
      "Processing frame 260\n",
      "Processing frame 270\n",
      "Processing frame 280\n",
      "Processing frame 290\n",
      "Processing frame 300\n",
      "Processing frame 310\n",
      "Processing frame 320\n",
      "Processing frame 330\n",
      "Processing frame 340\n",
      "Processing frame 350\n",
      "Processing frame 360\n",
      "Processing frame 370\n",
      "Processing complete. Output saved to output_tracked.mp4\n"
     ]
    }
   ],
   "source": [
    "import cv2\n",
    "from ultralytics import YOLO\n",
    "from deep_sort_realtime.deepsort_tracker import DeepSort\n",
    "import numpy as np\n",
    "import os\n",
    "\n",
    "model = YOLO(\"C:/Users/biswa/runs/detect/train2/weights/best.pt\")  \n",
    "\n",
    "tracker = DeepSort(max_age=30)\n",
    "\n",
    "cap = cv2.VideoCapture(\"15sec_input_720p.mp4\")  \n",
    "assert cap.isOpened(), \"Error: Couldn't open video.\"\n",
    "\n",
    "class_names = model.names\n",
    "\n",
    "output_path = \"output_tracked.mp4\"\n",
    "fourcc = cv2.VideoWriter_fourcc(*'mp4v') \n",
    "fps = cap.get(cv2.CAP_PROP_FPS)\n",
    "width = int(cap.get(cv2.CAP_PROP_FRAME_WIDTH))\n",
    "height = int(cap.get(cv2.CAP_PROP_FRAME_HEIGHT))\n",
    "out = cv2.VideoWriter(output_path, fourcc, fps, (width, height))\n",
    "\n",
    "frame_count = 0\n",
    "while True:\n",
    "    ret, frame = cap.read()\n",
    "    if not ret:\n",
    "        break\n",
    "        \n",
    "    frame_count += 1\n",
    "    if frame_count % 10 == 0: \n",
    "        print(f\"Processing frame {frame_count}\")\n",
    "\n",
    "    results = model.predict(frame, conf=0.3, verbose=False)[0]\n",
    "\n",
    "    detections = []\n",
    "    for box in results.boxes:\n",
    "        cls_id = int(box.cls[0])\n",
    "        label = class_names[cls_id]\n",
    "        conf = float(box.conf[0])\n",
    "        x1, y1, x2, y2 = map(int, box.xyxy[0])\n",
    "        detections.append(([x1, y1, x2 - x1, y2 - y1], conf, label))\n",
    "\n",
    "    tracks = tracker.update_tracks(detections, frame=frame)\n",
    "\n",
    "    for track in tracks:\n",
    "        if not track.is_confirmed():\n",
    "            continue\n",
    "        track_id = track.track_id\n",
    "        ltrb = track.to_ltrb()\n",
    "        x1, y1, x2, y2 = map(int, ltrb)\n",
    "        class_name = track.get_det_class() \n",
    "        label = f\"{class_name}_{track_id}\"\n",
    "\n",
    "        cv2.rectangle(frame, (x1, y1), (x2, y2), (50, 255, 50), 2)\n",
    "        cv2.putText(frame, label, (x1, y1 - 7), cv2.FONT_HERSHEY_SIMPLEX, 0.6, (0, 0, 255), 2)\n",
    "\n",
    "    out.write(frame)\n",
    "    \n",
    "\n",
    "cap.release()\n",
    "out.release()\n",
    "print(f\"Processing complete. Output saved to {output_path}\")"
   ]
  },
  {
   "cell_type": "code",
   "execution_count": null,
   "id": "0a7d28b1-28db-430a-8870-af775baabbdf",
   "metadata": {},
   "outputs": [],
   "source": []
  },
  {
   "cell_type": "code",
   "execution_count": null,
   "id": "b5d0499d-ddcc-4328-9d88-71524dda4074",
   "metadata": {},
   "outputs": [],
   "source": []
  },
  {
   "cell_type": "code",
   "execution_count": null,
   "id": "82e5e2e4-ac0e-4133-8516-0d97408b9e6b",
   "metadata": {},
   "outputs": [],
   "source": []
  },
  {
   "cell_type": "code",
   "execution_count": null,
   "id": "d33a52c9-8b04-4699-873d-82184e5900f5",
   "metadata": {},
   "outputs": [],
   "source": []
  }
 ],
 "metadata": {
  "kernelspec": {
   "display_name": "Python [conda env:base] *",
   "language": "python",
   "name": "conda-base-py"
  },
  "language_info": {
   "codemirror_mode": {
    "name": "ipython",
    "version": 3
   },
   "file_extension": ".py",
   "mimetype": "text/x-python",
   "name": "python",
   "nbconvert_exporter": "python",
   "pygments_lexer": "ipython3",
   "version": "3.12.7"
  }
 },
 "nbformat": 4,
 "nbformat_minor": 5
}
